{
 "cells": [
  {
   "cell_type": "markdown",
   "metadata": {},
   "source": [
    "# Recommendations with IBM\n",
    "\n",
    "In this notebook, you will be putting your recommendation skills to use on real data from the IBM Watson Studio platform. \n",
    "\n",
    "\n",
    "You may either submit your notebook through the workspace here, or you may work from your local machine and submit through the next page.  Either way assure that your code passes the project [RUBRIC](https://review.udacity.com/#!/rubrics/2322/view).  **Please save regularly.**\n",
    "\n",
    "By following the table of contents, you will build out a number of different methods for making recommendations that can be used for different situations. \n",
    "\n",
    "\n",
    "## Table of Contents\n",
    "\n",
    "I. [Exploratory Data Analysis](#Exploratory-Data-Analysis)<br>\n",
    "II. [Rank Based Recommendations](#Rank)<br>\n",
    "III. [User-User Based Collaborative Filtering](#User-User)<br>\n",
    "IV. [Content Based Recommendations (EXTRA - NOT REQUIRED)](#Content-Recs)<br>\n",
    "V. [Matrix Factorization](#Matrix-Fact)<br>\n",
    "VI. [Extras & Concluding](#conclusions)\n",
    "\n",
    "At the end of the notebook, you will find directions for how to submit your work.  Let's get started by importing the necessary libraries and reading in the data."
   ]
  },
  {
   "cell_type": "code",
   "execution_count": 1,
   "metadata": {},
   "outputs": [
    {
     "name": "stdout",
     "output_type": "stream",
     "text": [
      "Requirement already satisfied: termcolor in /opt/conda/lib/python3.6/site-packages (1.1.0)\r\n"
     ]
    }
   ],
   "source": [
    "!pip install termcolor"
   ]
  },
  {
   "cell_type": "code",
   "execution_count": 2,
   "metadata": {},
   "outputs": [
    {
     "name": "stdout",
     "output_type": "stream",
     "text": [
      "Requirement already satisfied: tabulate in /opt/conda/lib/python3.6/site-packages (0.8.7)\r\n"
     ]
    }
   ],
   "source": [
    "! pip install tabulate\n",
    "from tabulate import tabulate"
   ]
  },
  {
   "cell_type": "code",
   "execution_count": 3,
   "metadata": {},
   "outputs": [],
   "source": [
    "import pandas as pd\n",
    "import numpy as np\n",
    "import matplotlib.pyplot as plt\n",
    "import project_tests as t\n",
    "import pickle\n",
    "\n",
    "%matplotlib inline\n",
    "\n",
    "#import seaborn as sns\n",
    "#sns.set_style(\"darkgrid\")\n",
    "\n",
    "from IPython.display import Markdown, display, HTML\n",
    "def printmd(string):\n",
    "    display(Markdown(string))\n",
    "from termcolor import colored"
   ]
  },
  {
   "cell_type": "code",
   "execution_count": 4,
   "metadata": {},
   "outputs": [
    {
     "data": {
      "text/markdown": [
       "### The additional library requirements to run this notebook"
      ],
      "text/plain": [
       "<IPython.core.display.Markdown object>"
      ]
     },
     "metadata": {},
     "output_type": "display_data"
    },
    {
     "name": "stdout",
     "output_type": "stream",
     "text": [
      "[('tabulate', '0.8.7'), ('pandas', '0.23.3'), ('numpy', '1.12.1'), ('matplotlib', '2.1.0')]\n"
     ]
    }
   ],
   "source": [
    "# get back the used libraries and their versions as a list of tuples\n",
    "import pkg_resources\n",
    "import types\n",
    "def get_imports():\n",
    "    \"\"\" Get a list of packages and versions for README.md\n",
    "    \n",
    "        INPUTS: \n",
    "        -----------\n",
    "            None\n",
    "\n",
    "        OUTPUTS: \n",
    "        -----------\n",
    "            list of tuples with package names and tuples\n",
    "    \"\"\"\n",
    "    for name, val in globals().items():\n",
    "        if isinstance(val, types.ModuleType):\n",
    "            # Split ensures you get root package, \n",
    "            # not just imported function\n",
    "            name = val.__name__.split(\".\")[0]\n",
    "\n",
    "        elif isinstance(val, type):\n",
    "            name = val.__module__.split(\".\")[0]\n",
    "\n",
    "        # Some packages are weird and have different\n",
    "        # imported names vs. system/pip names. Unfortunately,\n",
    "        # there is no systematic way to get pip names from\n",
    "        # a package's imported name. You'll have to add\n",
    "        # exceptions to this list manually!\n",
    "        poorly_named_packages = {\n",
    "            \"PIL\": \"Pillow\",\n",
    "            \"sklearn\": \"scikit-learn\"\n",
    "        }\n",
    "        if name in poorly_named_packages.keys():\n",
    "            name = poorly_named_packages[name]\n",
    "\n",
    "        yield name\n",
    "        \n",
    "imports = list(set(get_imports()))\n",
    "\n",
    "# Get the versions of the root package\n",
    "# by cross-checking the names of installed packages vs. imported packages\n",
    "requirements = []\n",
    "for m in pkg_resources.working_set:\n",
    "    if m.project_name in imports and m.project_name!=\"pip\":\n",
    "        requirements.append((m.project_name, m.version))\n",
    "        \n",
    "printmd('### The additional library requirements to run this notebook')\n",
    "print(requirements)"
   ]
  },
  {
   "cell_type": "code",
   "execution_count": 5,
   "metadata": {},
   "outputs": [
    {
     "data": {
      "text/markdown": [
       "### The head of the main DataFrame df"
      ],
      "text/plain": [
       "<IPython.core.display.Markdown object>"
      ]
     },
     "metadata": {},
     "output_type": "display_data"
    },
    {
     "data": {
      "text/html": [
       "<div>\n",
       "<style scoped>\n",
       "    .dataframe tbody tr th:only-of-type {\n",
       "        vertical-align: middle;\n",
       "    }\n",
       "\n",
       "    .dataframe tbody tr th {\n",
       "        vertical-align: top;\n",
       "    }\n",
       "\n",
       "    .dataframe thead th {\n",
       "        text-align: right;\n",
       "    }\n",
       "</style>\n",
       "<table border=\"1\" class=\"dataframe\">\n",
       "  <thead>\n",
       "    <tr style=\"text-align: right;\">\n",
       "      <th></th>\n",
       "      <th>article_id</th>\n",
       "      <th>title</th>\n",
       "      <th>email</th>\n",
       "    </tr>\n",
       "  </thead>\n",
       "  <tbody>\n",
       "    <tr>\n",
       "      <th>0</th>\n",
       "      <td>1430.0</td>\n",
       "      <td>using pixiedust for fast, flexible, and easier...</td>\n",
       "      <td>ef5f11f77ba020cd36e1105a00ab868bbdbf7fe7</td>\n",
       "    </tr>\n",
       "    <tr>\n",
       "      <th>1</th>\n",
       "      <td>1314.0</td>\n",
       "      <td>healthcare python streaming application demo</td>\n",
       "      <td>083cbdfa93c8444beaa4c5f5e0f5f9198e4f9e0b</td>\n",
       "    </tr>\n",
       "    <tr>\n",
       "      <th>2</th>\n",
       "      <td>1429.0</td>\n",
       "      <td>use deep learning for image classification</td>\n",
       "      <td>b96a4f2e92d8572034b1e9b28f9ac673765cd074</td>\n",
       "    </tr>\n",
       "    <tr>\n",
       "      <th>3</th>\n",
       "      <td>1338.0</td>\n",
       "      <td>ml optimization using cognitive assistant</td>\n",
       "      <td>06485706b34a5c9bf2a0ecdac41daf7e7654ceb7</td>\n",
       "    </tr>\n",
       "    <tr>\n",
       "      <th>4</th>\n",
       "      <td>1276.0</td>\n",
       "      <td>deploy your python model as a restful api</td>\n",
       "      <td>f01220c46fc92c6e6b161b1849de11faacd7ccb2</td>\n",
       "    </tr>\n",
       "  </tbody>\n",
       "</table>\n",
       "</div>"
      ],
      "text/plain": [
       "   article_id                                              title  \\\n",
       "0      1430.0  using pixiedust for fast, flexible, and easier...   \n",
       "1      1314.0       healthcare python streaming application demo   \n",
       "2      1429.0         use deep learning for image classification   \n",
       "3      1338.0          ml optimization using cognitive assistant   \n",
       "4      1276.0          deploy your python model as a restful api   \n",
       "\n",
       "                                      email  \n",
       "0  ef5f11f77ba020cd36e1105a00ab868bbdbf7fe7  \n",
       "1  083cbdfa93c8444beaa4c5f5e0f5f9198e4f9e0b  \n",
       "2  b96a4f2e92d8572034b1e9b28f9ac673765cd074  \n",
       "3  06485706b34a5c9bf2a0ecdac41daf7e7654ceb7  \n",
       "4  f01220c46fc92c6e6b161b1849de11faacd7ccb2  "
      ]
     },
     "execution_count": 5,
     "metadata": {},
     "output_type": "execute_result"
    }
   ],
   "source": [
    "df = pd.read_csv('data/user-item-interactions.csv')\n",
    "df_content = pd.read_csv('data/articles_community.csv')\n",
    "del df['Unnamed: 0']\n",
    "del df_content['Unnamed: 0']\n",
    "\n",
    "# Show df to get an idea of the data\n",
    "printmd('### The head of the main DataFrame df')\n",
    "df.head()"
   ]
  },
  {
   "cell_type": "code",
   "execution_count": 6,
   "metadata": {},
   "outputs": [
    {
     "data": {
      "text/markdown": [
       "### The head of the content DataFrame df_content"
      ],
      "text/plain": [
       "<IPython.core.display.Markdown object>"
      ]
     },
     "metadata": {},
     "output_type": "display_data"
    },
    {
     "data": {
      "text/html": [
       "<div>\n",
       "<style scoped>\n",
       "    .dataframe tbody tr th:only-of-type {\n",
       "        vertical-align: middle;\n",
       "    }\n",
       "\n",
       "    .dataframe tbody tr th {\n",
       "        vertical-align: top;\n",
       "    }\n",
       "\n",
       "    .dataframe thead th {\n",
       "        text-align: right;\n",
       "    }\n",
       "</style>\n",
       "<table border=\"1\" class=\"dataframe\">\n",
       "  <thead>\n",
       "    <tr style=\"text-align: right;\">\n",
       "      <th></th>\n",
       "      <th>doc_body</th>\n",
       "      <th>doc_description</th>\n",
       "      <th>doc_full_name</th>\n",
       "      <th>doc_status</th>\n",
       "      <th>article_id</th>\n",
       "    </tr>\n",
       "  </thead>\n",
       "  <tbody>\n",
       "    <tr>\n",
       "      <th>0</th>\n",
       "      <td>Skip navigation Sign in SearchLoading...\\r\\n\\r...</td>\n",
       "      <td>Detect bad readings in real time using Python ...</td>\n",
       "      <td>Detect Malfunctioning IoT Sensors with Streami...</td>\n",
       "      <td>Live</td>\n",
       "      <td>0</td>\n",
       "    </tr>\n",
       "    <tr>\n",
       "      <th>1</th>\n",
       "      <td>No Free Hunch Navigation * kaggle.com\\r\\n\\r\\n ...</td>\n",
       "      <td>See the forest, see the trees. Here lies the c...</td>\n",
       "      <td>Communicating data science: A guide to present...</td>\n",
       "      <td>Live</td>\n",
       "      <td>1</td>\n",
       "    </tr>\n",
       "    <tr>\n",
       "      <th>2</th>\n",
       "      <td>☰ * Login\\r\\n * Sign Up\\r\\n\\r\\n * Learning Pat...</td>\n",
       "      <td>Here’s this week’s news in Data Science and Bi...</td>\n",
       "      <td>This Week in Data Science (April 18, 2017)</td>\n",
       "      <td>Live</td>\n",
       "      <td>2</td>\n",
       "    </tr>\n",
       "    <tr>\n",
       "      <th>3</th>\n",
       "      <td>DATALAYER: HIGH THROUGHPUT, LOW LATENCY AT SCA...</td>\n",
       "      <td>Learn how distributed DBs solve the problem of...</td>\n",
       "      <td>DataLayer Conference: Boost the performance of...</td>\n",
       "      <td>Live</td>\n",
       "      <td>3</td>\n",
       "    </tr>\n",
       "    <tr>\n",
       "      <th>4</th>\n",
       "      <td>Skip navigation Sign in SearchLoading...\\r\\n\\r...</td>\n",
       "      <td>This video demonstrates the power of IBM DataS...</td>\n",
       "      <td>Analyze NY Restaurant data using Spark in DSX</td>\n",
       "      <td>Live</td>\n",
       "      <td>4</td>\n",
       "    </tr>\n",
       "  </tbody>\n",
       "</table>\n",
       "</div>"
      ],
      "text/plain": [
       "                                            doc_body  \\\n",
       "0  Skip navigation Sign in SearchLoading...\\r\\n\\r...   \n",
       "1  No Free Hunch Navigation * kaggle.com\\r\\n\\r\\n ...   \n",
       "2  ☰ * Login\\r\\n * Sign Up\\r\\n\\r\\n * Learning Pat...   \n",
       "3  DATALAYER: HIGH THROUGHPUT, LOW LATENCY AT SCA...   \n",
       "4  Skip navigation Sign in SearchLoading...\\r\\n\\r...   \n",
       "\n",
       "                                     doc_description  \\\n",
       "0  Detect bad readings in real time using Python ...   \n",
       "1  See the forest, see the trees. Here lies the c...   \n",
       "2  Here’s this week’s news in Data Science and Bi...   \n",
       "3  Learn how distributed DBs solve the problem of...   \n",
       "4  This video demonstrates the power of IBM DataS...   \n",
       "\n",
       "                                       doc_full_name doc_status  article_id  \n",
       "0  Detect Malfunctioning IoT Sensors with Streami...       Live           0  \n",
       "1  Communicating data science: A guide to present...       Live           1  \n",
       "2         This Week in Data Science (April 18, 2017)       Live           2  \n",
       "3  DataLayer Conference: Boost the performance of...       Live           3  \n",
       "4      Analyze NY Restaurant data using Spark in DSX       Live           4  "
      ]
     },
     "execution_count": 6,
     "metadata": {},
     "output_type": "execute_result"
    }
   ],
   "source": [
    "# Show df_content to get an idea of the data\n",
    "printmd('### The head of the content DataFrame df_content')\n",
    "df_content.head()"
   ]
  },
  {
   "cell_type": "code",
   "execution_count": null,
   "metadata": {},
   "outputs": [],
   "source": []
  },
  {
   "cell_type": "markdown",
   "metadata": {},
   "source": [
    "### <a class=\"anchor\" id=\"Exploratory-Data-Analysis\">Part I : Exploratory Data Analysis</a>\n",
    "\n",
    "Use the dictionary and cells below to provide some insight into the descriptive statistics of the data.\n",
    "\n",
    "`1.` What is the distribution of how many articles a user interacts with in the dataset?  Provide a visual and descriptive statistics to assist with giving a look at the number of times each user interacts with an article.  "
   ]
  },
  {
   "cell_type": "code",
   "execution_count": 7,
   "metadata": {},
   "outputs": [],
   "source": [
    "df[df['email']== '0000b6387a0366322d7fbfc6434af145adf7fed1'];"
   ]
  },
  {
   "cell_type": "code",
   "execution_count": 8,
   "metadata": {},
   "outputs": [],
   "source": [
    "dist = df.groupby('email')['article_id'].value_counts()\n",
    "dist;"
   ]
  },
  {
   "cell_type": "code",
   "execution_count": 9,
   "metadata": {},
   "outputs": [],
   "source": [
    "dist = df.groupby('email')['article_id'].count().value_counts()"
   ]
  },
  {
   "cell_type": "code",
   "execution_count": 10,
   "metadata": {},
   "outputs": [
    {
     "data": {
      "text/markdown": [
       "### Frequency Distribution: Number of article-user interactions"
      ],
      "text/plain": [
       "<IPython.core.display.Markdown object>"
      ]
     },
     "metadata": {},
     "output_type": "display_data"
    },
    {
     "data": {
      "text/plain": [
       "Text(0,0.5,'Frequency')"
      ]
     },
     "execution_count": 10,
     "metadata": {},
     "output_type": "execute_result"
    },
    {
     "data": {
      "image/png": "[encoded data removed]",
      "text/plain": [
       "<matplotlib.figure.Figure at 0x7f5a885dcf98>"
      ]
     },
     "metadata": {
      "needs_background": "light"
     },
     "output_type": "display_data"
    }
   ],
   "source": [
    "printmd('### Frequency Distribution: Number of article-user interactions')\n",
    "hist = df.groupby('email')['article_id'].count().hist(bins=len(dist), log=True)\n",
    "plt.xlabel(\"Number of article-user interactions\")\n",
    "plt.ylabel(\"Frequency\")"
   ]
  },
  {
   "cell_type": "code",
   "execution_count": 11,
   "metadata": {},
   "outputs": [
    {
     "data": {
      "text/markdown": [
       "### Median, mean and mode --> Indication for a right skewed distribution"
      ],
      "text/plain": [
       "<IPython.core.display.Markdown object>"
      ]
     },
     "metadata": {},
     "output_type": "display_data"
    },
    {
     "name": "stdout",
     "output_type": "stream",
     "text": [
      "median =  3.0\n",
      "mean =  8.93084693085\n",
      "mode =  0    1\n",
      "dtype: int64\n"
     ]
    }
   ],
   "source": [
    "printmd('### Median, mean and mode --> Indication for a right skewed distribution')\n",
    "print('median = ',df.groupby('email')['article_id'].count().median())\n",
    "print('mean = ', df.groupby('email')['article_id'].count().mean())\n",
    "print('mode = ', df.groupby('email')['article_id'].count().mode())"
   ]
  },
  {
   "cell_type": "markdown",
   "metadata": {},
   "source": [
    "#### Answer to Question 1:\n",
    "- The distribution of ***how many articles a user interacts with in the dataset*** is quite right skewed (mode < median < mean)\n",
    "- 50% percent of all user article interactions are less than 3\n",
    "- There 5148 unique users and 45993 user-article interactions in the dataset\n",
    "- The number of unique articles is 714"
   ]
  },
  {
   "cell_type": "code",
   "execution_count": 12,
   "metadata": {},
   "outputs": [],
   "source": [
    "def get_dataframe_summary(df, cat_list, dummy_list, filename='text_for_readme.txt'):\n",
    "    \"\"\" Autogenerate a dataframe summary in addition to the dataframe-describe() function\n",
    "    \n",
    "        INPUTS: \n",
    "        ----------\n",
    "            df -  (pandas dataframe) which should be described in an overview\n",
    "            cat_list - (list) of all categorical input features\n",
    "            dummy_list - (list) of all dummy input features \n",
    "\n",
    "        OUTPUTS:\n",
    "        ----------\n",
    "            No direct\n",
    "            print statements \n",
    "            text_for_readme.txt - an auto generated text document with df dataframe summary for the README \n",
    "           \n",
    "    \"\"\"\n",
    "    \n",
    "    number_nan = df.isnull().sum()\n",
    "    printmd('### DataFrame Overview')\n",
    "    printmd('- Dataset with {} observations and {} columns'.format(df.shape[0], df.shape[1]))\n",
    "    \n",
    "    text_for_readme = '## DataFrame Overview\\n'\n",
    "    text_for_readme += 'Dataset with {} observations and {} columns\\n\\n'.format(df.shape[0], df.shape[1])\n",
    "    \n",
    "    print('___________________________________')\n",
    "    printmd('- **Numerical** columns:')\n",
    "    \n",
    "    text_for_readme += '- **Numerical** columns:\\n\\n'\n",
    "    text_for_readme += '\\t| column_name | type | min | max | number NaN |\\n\\t| :-------------  | :-------------  | :-------------  | :-------------  | :-------------  |\\n'\n",
    "    row_num = []\n",
    "    count_int = 0\n",
    "    count_float = 0\n",
    "    for col in df.columns.tolist():\n",
    "        if (df[col].dtypes == 'float64' or df[col].dtypes == 'int64') and col not in cat_list and col not in dummy_list:\n",
    "            row_num.append([col, df[col].dtypes, df[col].min(), df[col].max(), number_nan[col]])\n",
    "            text_for_readme +=('\\t| ' + str(col) + ' | ' + str(df[col].dtypes) + ' | ' + str(df[col].min()) + ' | ' + str(df[col].max()) + ' | '+ str(number_nan[col]) + ' | ' + '\\n') \n",
    "            if df[col].dtypes == 'int64':\n",
    "                count_int += 1\n",
    "            if df[col].dtypes == 'float64':\n",
    "                count_float += 1\n",
    "    df_num = pd.DataFrame(row_num,columns=['column_name', 'type', 'min', 'max', 'number NaN'])\n",
    "    text_for_readme +='\\n\\n'\n",
    "    display(df_num)\n",
    "\n",
    "    print('___________________________________')\n",
    "    printmd('- **Categorical** columns:')\n",
    "    \n",
    "    text_for_readme += '- **Categorical** columns:\\n\\n'\n",
    "    text_for_readme += '\\t| column_name | type | min | max | number NaN |\\n\\t| :-------------  | :-------------  | :-------------  | :-------------  | :-------------  |\\n'\n",
    "    row_cat = []\n",
    "    count_object = 0\n",
    "    for col in df.columns.tolist():\n",
    "        if df[col].dtypes == 'object' or col in cat_list:\n",
    "            try:\n",
    "                row_cat.append([col, df[col].dtypes, df[col].min(), df[col].max(), number_nan[col]])\n",
    "                text_for_readme +=('\\t| ' + str(col) + ' | ' + str(df[col].dtypes) + ' | ' + str(df[col].min()) + ' | ' + str(df[col].max()) + ' | '+ str(number_nan[col]) + ' | ' + '\\n') \n",
    "            except:\n",
    "                row_cat.append([col, df[col].dtypes, 'NaN', 'NaN', number_nan[col]])\n",
    "                text_for_readme +=('\\t| ' + str(col) + ' | ' + str(df[col].dtypes) + ' | '+ 'NaN' + ' | '+ 'NaN' + ' | '+ str(number_nan[col]) + ' | ' + '\\n') \n",
    "            count_object += 1\n",
    "    df_cat = pd.DataFrame(row_cat,columns=['column_name', 'type', 'min', 'max', 'number NaN'])\n",
    "    text_for_readme +='\\n\\n'\n",
    "    display(df_cat)\n",
    "\n",
    "    print('___________________________________')\n",
    "    printmd('- **Dummy** columns:')\n",
    "    \n",
    "    text_for_readme += '- **Dummy** columns:\\n\\n'\n",
    "    text_for_readme += '\\t| column_name | type | min | max | number NaN |\\n\\t| :-------------  | :-------------  | :-------------  | :-------------  | :-------------  |\\n'\n",
    "    row_dummy = []\n",
    "    for col in dummy_list:\n",
    "        if (df[col].dtypes == 'float64' or df[col].dtypes == 'int64'):\n",
    "            row_dummy.append([col, df[col].dtypes, df[col].min(), df[col].max(), number_nan[col]])\n",
    "            text_for_readme +=('\\t| ' + str(col) + ' | ' + str(df[col].dtypes) + ' | ' + str(df[col].min()) + ' | ' + str(df[col].max()) + ' | '+ str(number_nan[col]) + ' | ' + '\\n')\n",
    "    df_dummy = pd.DataFrame(row_dummy,columns=['column_name', 'type', 'min', 'max', 'number NaN'])\n",
    "    text_for_readme +='\\n\\n'\n",
    "    display(df_dummy)\n",
    "    \n",
    "    print('___________________________________')\n",
    "    printmd('- There are ***{} numerical*** ({}x int and {}x float) columns'.format(count_int + count_float, count_int, count_float))\n",
    "    printmd('- There are ***{} categorical*** columns'.format(count_object))\n",
    "    printmd('- There are ***{} dummy*** columns'.format(len(dummy_list)))\n",
    "    \n",
    "    print('___________________________________')\n",
    "    printmd('- There are ***{} missing values*** in total in the dataset'.format(df.isnull().values.sum()))\n",
    "    \n",
    "    \n",
    "    text_for_readme += '- There are ***{} numerical*** ({}x int and {}x float) columns\\n'.format(count_int + count_float, count_int, count_float)\n",
    "    text_for_readme += '- There are ***{} categorical*** columns\\n'.format(count_object)\n",
    "    text_for_readme += '- There are ***{} dummy*** columns\\n'.format(len(dummy_list))\n",
    "    text_for_readme += '- There are ***{} missing values*** in total in the dataset\\n'.format(df.isnull().values.sum())\n",
    "    \n",
    "    with open(filename, 'w') as f:\n",
    "        f.write(text_for_readme)\n",
    "        "
   ]
  },
  {
   "cell_type": "code",
   "execution_count": 13,
   "metadata": {},
   "outputs": [
    {
     "data": {
      "text/markdown": [
       "## DataFrame Summary: df"
      ],
      "text/plain": [
       "<IPython.core.display.Markdown object>"
      ]
     },
     "metadata": {},
     "output_type": "display_data"
    },
    {
     "data": {
      "text/markdown": [
       "### Descriptive Statistics for df"
      ],
      "text/plain": [
       "<IPython.core.display.Markdown object>"
      ]
     },
     "metadata": {},
     "output_type": "display_data"
    },
    {
     "data": {
      "text/html": [
       "<div>\n",
       "<style scoped>\n",
       "    .dataframe tbody tr th:only-of-type {\n",
       "        vertical-align: middle;\n",
       "    }\n",
       "\n",
       "    .dataframe tbody tr th {\n",
       "        vertical-align: top;\n",
       "    }\n",
       "\n",
       "    .dataframe thead th {\n",
       "        text-align: right;\n",
       "    }\n",
       "</style>\n",
       "<table border=\"1\" class=\"dataframe\">\n",
       "  <thead>\n",
       "    <tr style=\"text-align: right;\">\n",
       "      <th></th>\n",
       "      <th>count</th>\n",
       "      <th>unique</th>\n",
       "      <th>top</th>\n",
       "      <th>freq</th>\n",
       "      <th>mean</th>\n",
       "      <th>std</th>\n",
       "      <th>min</th>\n",
       "      <th>25%</th>\n",
       "      <th>50%</th>\n",
       "      <th>75%</th>\n",
       "      <th>max</th>\n",
       "    </tr>\n",
       "  </thead>\n",
       "  <tbody>\n",
       "    <tr>\n",
       "      <th>article_id</th>\n",
       "      <td>45993</td>\n",
       "      <td>NaN</td>\n",
       "      <td>NaN</td>\n",
       "      <td>NaN</td>\n",
       "      <td>908.846</td>\n",
       "      <td>486.648</td>\n",
       "      <td>0</td>\n",
       "      <td>460</td>\n",
       "      <td>1151</td>\n",
       "      <td>1336</td>\n",
       "      <td>1444</td>\n",
       "    </tr>\n",
       "    <tr>\n",
       "      <th>title</th>\n",
       "      <td>45993</td>\n",
       "      <td>714</td>\n",
       "      <td>use deep learning for image classification</td>\n",
       "      <td>937</td>\n",
       "      <td>NaN</td>\n",
       "      <td>NaN</td>\n",
       "      <td>NaN</td>\n",
       "      <td>NaN</td>\n",
       "      <td>NaN</td>\n",
       "      <td>NaN</td>\n",
       "      <td>NaN</td>\n",
       "    </tr>\n",
       "    <tr>\n",
       "      <th>email</th>\n",
       "      <td>45976</td>\n",
       "      <td>5148</td>\n",
       "      <td>2b6c0f514c2f2b04ad3c4583407dccd0810469ee</td>\n",
       "      <td>364</td>\n",
       "      <td>NaN</td>\n",
       "      <td>NaN</td>\n",
       "      <td>NaN</td>\n",
       "      <td>NaN</td>\n",
       "      <td>NaN</td>\n",
       "      <td>NaN</td>\n",
       "      <td>NaN</td>\n",
       "    </tr>\n",
       "  </tbody>\n",
       "</table>\n",
       "</div>"
      ],
      "text/plain": [
       "            count unique                                         top freq  \\\n",
       "article_id  45993    NaN                                         NaN  NaN   \n",
       "title       45993    714  use deep learning for image classification  937   \n",
       "email       45976   5148    2b6c0f514c2f2b04ad3c4583407dccd0810469ee  364   \n",
       "\n",
       "               mean      std  min  25%   50%   75%   max  \n",
       "article_id  908.846  486.648    0  460  1151  1336  1444  \n",
       "title           NaN      NaN  NaN  NaN   NaN   NaN   NaN  \n",
       "email           NaN      NaN  NaN  NaN   NaN   NaN   NaN  "
      ]
     },
     "metadata": {},
     "output_type": "display_data"
    },
    {
     "data": {
      "text/markdown": [
       "### DataFrame Overview"
      ],
      "text/plain": [
       "<IPython.core.display.Markdown object>"
      ]
     },
     "metadata": {},
     "output_type": "display_data"
    },
    {
     "data": {
      "text/markdown": [
       "- Dataset with 45993 observations and 3 columns"
      ],
      "text/plain": [
       "<IPython.core.display.Markdown object>"
      ]
     },
     "metadata": {},
     "output_type": "display_data"
    },
    {
     "name": "stdout",
     "output_type": "stream",
     "text": [
      "___________________________________\n"
     ]
    },
    {
     "data": {
      "text/markdown": [
       "- **Numerical** columns:"
      ],
      "text/plain": [
       "<IPython.core.display.Markdown object>"
      ]
     },
     "metadata": {},
     "output_type": "display_data"
    },
    {
     "data": {
      "text/html": [
       "<div>\n",
       "<style scoped>\n",
       "    .dataframe tbody tr th:only-of-type {\n",
       "        vertical-align: middle;\n",
       "    }\n",
       "\n",
       "    .dataframe tbody tr th {\n",
       "        vertical-align: top;\n",
       "    }\n",
       "\n",
       "    .dataframe thead th {\n",
       "        text-align: right;\n",
       "    }\n",
       "</style>\n",
       "<table border=\"1\" class=\"dataframe\">\n",
       "  <thead>\n",
       "    <tr style=\"text-align: right;\">\n",
       "      <th></th>\n",
       "      <th>column_name</th>\n",
       "      <th>type</th>\n",
       "      <th>min</th>\n",
       "      <th>max</th>\n",
       "      <th>number NaN</th>\n",
       "    </tr>\n",
       "  </thead>\n",
       "  <tbody>\n",
       "  </tbody>\n",
       "</table>\n",
       "</div>"
      ],
      "text/plain": [
       "Empty DataFrame\n",
       "Columns: [column_name, type, min, max, number NaN]\n",
       "Index: []"
      ]
     },
     "metadata": {},
     "output_type": "display_data"
    },
    {
     "name": "stdout",
     "output_type": "stream",
     "text": [
      "___________________________________\n"
     ]
    },
    {
     "data": {
      "text/markdown": [
       "- **Categorical** columns:"
      ],
      "text/plain": [
       "<IPython.core.display.Markdown object>"
      ]
     },
     "metadata": {},
     "output_type": "display_data"
    },
    {
     "data": {
      "text/html": [
       "<div>\n",
       "<style scoped>\n",
       "    .dataframe tbody tr th:only-of-type {\n",
       "        vertical-align: middle;\n",
       "    }\n",
       "\n",
       "    .dataframe tbody tr th {\n",
       "        vertical-align: top;\n",
       "    }\n",
       "\n",
       "    .dataframe thead th {\n",
       "        text-align: right;\n",
       "    }\n",
       "</style>\n",
       "<table border=\"1\" class=\"dataframe\">\n",
       "  <thead>\n",
       "    <tr style=\"text-align: right;\">\n",
       "      <th></th>\n",
       "      <th>column_name</th>\n",
       "      <th>type</th>\n",
       "      <th>min</th>\n",
       "      <th>max</th>\n",
       "      <th>number NaN</th>\n",
       "    </tr>\n",
       "  </thead>\n",
       "  <tbody>\n",
       "    <tr>\n",
       "      <th>0</th>\n",
       "      <td>article_id</td>\n",
       "      <td>float64</td>\n",
       "      <td>0</td>\n",
       "      <td>1444</td>\n",
       "      <td>0</td>\n",
       "    </tr>\n",
       "    <tr>\n",
       "      <th>1</th>\n",
       "      <td>title</td>\n",
       "      <td>object</td>\n",
       "      <td>0 to life-changing app: new apache systemml ap...</td>\n",
       "      <td>you could be looking at it all wrong</td>\n",
       "      <td>0</td>\n",
       "    </tr>\n",
       "    <tr>\n",
       "      <th>2</th>\n",
       "      <td>email</td>\n",
       "      <td>object</td>\n",
       "      <td>NaN</td>\n",
       "      <td>NaN</td>\n",
       "      <td>17</td>\n",
       "    </tr>\n",
       "  </tbody>\n",
       "</table>\n",
       "</div>"
      ],
      "text/plain": [
       "  column_name     type                                                min  \\\n",
       "0  article_id  float64                                                  0   \n",
       "1       title   object  0 to life-changing app: new apache systemml ap...   \n",
       "2       email   object                                                NaN   \n",
       "\n",
       "                                    max  number NaN  \n",
       "0                                  1444           0  \n",
       "1  you could be looking at it all wrong           0  \n",
       "2                                   NaN          17  "
      ]
     },
     "metadata": {},
     "output_type": "display_data"
    },
    {
     "name": "stdout",
     "output_type": "stream",
     "text": [
      "___________________________________\n"
     ]
    },
    {
     "data": {
      "text/markdown": [
       "- **Dummy** columns:"
      ],
      "text/plain": [
       "<IPython.core.display.Markdown object>"
      ]
     },
     "metadata": {},
     "output_type": "display_data"
    },
    {
     "data": {
      "text/html": [
       "<div>\n",
       "<style scoped>\n",
       "    .dataframe tbody tr th:only-of-type {\n",
       "        vertical-align: middle;\n",
       "    }\n",
       "\n",
       "    .dataframe tbody tr th {\n",
       "        vertical-align: top;\n",
       "    }\n",
       "\n",
       "    .dataframe thead th {\n",
       "        text-align: right;\n",
       "    }\n",
       "</style>\n",
       "<table border=\"1\" class=\"dataframe\">\n",
       "  <thead>\n",
       "    <tr style=\"text-align: right;\">\n",
       "      <th></th>\n",
       "      <th>column_name</th>\n",
       "      <th>type</th>\n",
       "      <th>min</th>\n",
       "      <th>max</th>\n",
       "      <th>number NaN</th>\n",
       "    </tr>\n",
       "  </thead>\n",
       "  <tbody>\n",
       "  </tbody>\n",
       "</table>\n",
       "</div>"
      ],
      "text/plain": [
       "Empty DataFrame\n",
       "Columns: [column_name, type, min, max, number NaN]\n",
       "Index: []"
      ]
     },
     "metadata": {},
     "output_type": "display_data"
    },
    {
     "name": "stdout",
     "output_type": "stream",
     "text": [
      "___________________________________\n"
     ]
    },
    {
     "data": {
      "text/markdown": [
       "- There are ***0 numerical*** (0x int and 0x float) columns"
      ],
      "text/plain": [
       "<IPython.core.display.Markdown object>"
      ]
     },
     "metadata": {},
     "output_type": "display_data"
    },
    {
     "data": {
      "text/markdown": [
       "- There are ***3 categorical*** columns"
      ],
      "text/plain": [
       "<IPython.core.display.Markdown object>"
      ]
     },
     "metadata": {},
     "output_type": "display_data"
    },
    {
     "data": {
      "text/markdown": [
       "- There are ***0 dummy*** columns"
      ],
      "text/plain": [
       "<IPython.core.display.Markdown object>"
      ]
     },
     "metadata": {},
     "output_type": "display_data"
    },
    {
     "name": "stdout",
     "output_type": "stream",
     "text": [
      "___________________________________\n"
     ]
    },
    {
     "data": {
      "text/markdown": [
       "- There are ***17 missing values*** in total in the dataset"
      ],
      "text/plain": [
       "<IPython.core.display.Markdown object>"
      ]
     },
     "metadata": {},
     "output_type": "display_data"
    }
   ],
   "source": [
    "printmd('## DataFrame Summary: df')\n",
    "printmd('### Descriptive Statistics for df')\n",
    "display(df.describe(include='all').T)\n",
    "get_dataframe_summary(df, cat_list=['article_id', 'title', 'email'],dummy_list=[], filename='text_for_readme_df.txt')"
   ]
  },
  {
   "cell_type": "markdown",
   "metadata": {},
   "source": [
    "`2.` Explore and remove duplicate articles from the **df_content** dataframe.  "
   ]
  },
  {
   "cell_type": "code",
   "execution_count": 14,
   "metadata": {},
   "outputs": [
    {
     "data": {
      "text/markdown": [
       "## DataFrame Summary: df_content"
      ],
      "text/plain": [
       "<IPython.core.display.Markdown object>"
      ]
     },
     "metadata": {},
     "output_type": "display_data"
    },
    {
     "data": {
      "text/markdown": [
       "### Descriptive Statistics for df_content"
      ],
      "text/plain": [
       "<IPython.core.display.Markdown object>"
      ]
     },
     "metadata": {},
     "output_type": "display_data"
    },
    {
     "data": {
      "text/html": [
       "<div>\n",
       "<style scoped>\n",
       "    .dataframe tbody tr th:only-of-type {\n",
       "        vertical-align: middle;\n",
       "    }\n",
       "\n",
       "    .dataframe tbody tr th {\n",
       "        vertical-align: top;\n",
       "    }\n",
       "\n",
       "    .dataframe thead th {\n",
       "        text-align: right;\n",
       "    }\n",
       "</style>\n",
       "<table border=\"1\" class=\"dataframe\">\n",
       "  <thead>\n",
       "    <tr style=\"text-align: right;\">\n",
       "      <th></th>\n",
       "      <th>count</th>\n",
       "      <th>unique</th>\n",
       "      <th>top</th>\n",
       "      <th>freq</th>\n",
       "      <th>mean</th>\n",
       "      <th>std</th>\n",
       "      <th>min</th>\n",
       "      <th>25%</th>\n",
       "      <th>50%</th>\n",
       "      <th>75%</th>\n",
       "      <th>max</th>\n",
       "    </tr>\n",
       "  </thead>\n",
       "  <tbody>\n",
       "    <tr>\n",
       "      <th>doc_body</th>\n",
       "      <td>1042</td>\n",
       "      <td>1036</td>\n",
       "      <td>Working Vis * \\r\\n * \\r\\n\\r\\n * Home\\r\\n * Abo...</td>\n",
       "      <td>4</td>\n",
       "      <td>NaN</td>\n",
       "      <td>NaN</td>\n",
       "      <td>NaN</td>\n",
       "      <td>NaN</td>\n",
       "      <td>NaN</td>\n",
       "      <td>NaN</td>\n",
       "      <td>NaN</td>\n",
       "    </tr>\n",
       "    <tr>\n",
       "      <th>doc_description</th>\n",
       "      <td>1053</td>\n",
       "      <td>1022</td>\n",
       "      <td>Here’s this week’s news in Data Science and Bi...</td>\n",
       "      <td>16</td>\n",
       "      <td>NaN</td>\n",
       "      <td>NaN</td>\n",
       "      <td>NaN</td>\n",
       "      <td>NaN</td>\n",
       "      <td>NaN</td>\n",
       "      <td>NaN</td>\n",
       "      <td>NaN</td>\n",
       "    </tr>\n",
       "    <tr>\n",
       "      <th>doc_full_name</th>\n",
       "      <td>1056</td>\n",
       "      <td>1051</td>\n",
       "      <td>How smart catalogs can turn the big data flood...</td>\n",
       "      <td>2</td>\n",
       "      <td>NaN</td>\n",
       "      <td>NaN</td>\n",
       "      <td>NaN</td>\n",
       "      <td>NaN</td>\n",
       "      <td>NaN</td>\n",
       "      <td>NaN</td>\n",
       "      <td>NaN</td>\n",
       "    </tr>\n",
       "    <tr>\n",
       "      <th>doc_status</th>\n",
       "      <td>1056</td>\n",
       "      <td>1</td>\n",
       "      <td>Live</td>\n",
       "      <td>1056</td>\n",
       "      <td>NaN</td>\n",
       "      <td>NaN</td>\n",
       "      <td>NaN</td>\n",
       "      <td>NaN</td>\n",
       "      <td>NaN</td>\n",
       "      <td>NaN</td>\n",
       "      <td>NaN</td>\n",
       "    </tr>\n",
       "    <tr>\n",
       "      <th>article_id</th>\n",
       "      <td>1056</td>\n",
       "      <td>NaN</td>\n",
       "      <td>NaN</td>\n",
       "      <td>NaN</td>\n",
       "      <td>523.914</td>\n",
       "      <td>303.481</td>\n",
       "      <td>0</td>\n",
       "      <td>260.75</td>\n",
       "      <td>523.5</td>\n",
       "      <td>786.25</td>\n",
       "      <td>1050</td>\n",
       "    </tr>\n",
       "  </tbody>\n",
       "</table>\n",
       "</div>"
      ],
      "text/plain": [
       "                count unique  \\\n",
       "doc_body         1042   1036   \n",
       "doc_description  1053   1022   \n",
       "doc_full_name    1056   1051   \n",
       "doc_status       1056      1   \n",
       "article_id       1056    NaN   \n",
       "\n",
       "                                                               top  freq  \\\n",
       "doc_body         Working Vis * \\r\\n * \\r\\n\\r\\n * Home\\r\\n * Abo...     4   \n",
       "doc_description  Here’s this week’s news in Data Science and Bi...    16   \n",
       "doc_full_name    How smart catalogs can turn the big data flood...     2   \n",
       "doc_status                                                    Live  1056   \n",
       "article_id                                                     NaN   NaN   \n",
       "\n",
       "                    mean      std  min     25%    50%     75%   max  \n",
       "doc_body             NaN      NaN  NaN     NaN    NaN     NaN   NaN  \n",
       "doc_description      NaN      NaN  NaN     NaN    NaN     NaN   NaN  \n",
       "doc_full_name        NaN      NaN  NaN     NaN    NaN     NaN   NaN  \n",
       "doc_status           NaN      NaN  NaN     NaN    NaN     NaN   NaN  \n",
       "article_id       523.914  303.481    0  260.75  523.5  786.25  1050  "
      ]
     },
     "metadata": {},
     "output_type": "display_data"
    },
    {
     "data": {
      "text/markdown": [
       "### DataFrame Overview"
      ],
      "text/plain": [
       "<IPython.core.display.Markdown object>"
      ]
     },
     "metadata": {},
     "output_type": "display_data"
    },
    {
     "data": {
      "text/markdown": [
       "- Dataset with 1056 observations and 5 columns"
      ],
      "text/plain": [
       "<IPython.core.display.Markdown object>"
      ]
     },
     "metadata": {},
     "output_type": "display_data"
    },
    {
     "name": "stdout",
     "output_type": "stream",
     "text": [
      "___________________________________\n"
     ]
    },
    {
     "data": {
      "text/markdown": [
       "- **Numerical** columns:"
      ],
      "text/plain": [
       "<IPython.core.display.Markdown object>"
      ]
     },
     "metadata": {},
     "output_type": "display_data"
    },
    {
     "data": {
      "text/html": [
       "<div>\n",
       "<style scoped>\n",
       "    .dataframe tbody tr th:only-of-type {\n",
       "        vertical-align: middle;\n",
       "    }\n",
       "\n",
       "    .dataframe tbody tr th {\n",
       "        vertical-align: top;\n",
       "    }\n",
       "\n",
       "    .dataframe thead th {\n",
       "        text-align: right;\n",
       "    }\n",
       "</style>\n",
       "<table border=\"1\" class=\"dataframe\">\n",
       "  <thead>\n",
       "    <tr style=\"text-align: right;\">\n",
       "      <th></th>\n",
       "      <th>column_name</th>\n",
       "      <th>type</th>\n",
       "      <th>min</th>\n",
       "      <th>max</th>\n",
       "      <th>number NaN</th>\n",
       "    </tr>\n",
       "  </thead>\n",
       "  <tbody>\n",
       "  </tbody>\n",
       "</table>\n",
       "</div>"
      ],
      "text/plain": [
       "Empty DataFrame\n",
       "Columns: [column_name, type, min, max, number NaN]\n",
       "Index: []"
      ]
     },
     "metadata": {},
     "output_type": "display_data"
    },
    {
     "name": "stdout",
     "output_type": "stream",
     "text": [
      "___________________________________\n"
     ]
    },
    {
     "data": {
      "text/markdown": [
       "- **Categorical** columns:"
      ],
      "text/plain": [
       "<IPython.core.display.Markdown object>"
      ]
     },
     "metadata": {},
     "output_type": "display_data"
    },
    {
     "data": {
      "text/html": [
       "<div>\n",
       "<style scoped>\n",
       "    .dataframe tbody tr th:only-of-type {\n",
       "        vertical-align: middle;\n",
       "    }\n",
       "\n",
       "    .dataframe tbody tr th {\n",
       "        vertical-align: top;\n",
       "    }\n",
       "\n",
       "    .dataframe thead th {\n",
       "        text-align: right;\n",
       "    }\n",
       "</style>\n",
       "<table border=\"1\" class=\"dataframe\">\n",
       "  <thead>\n",
       "    <tr style=\"text-align: right;\">\n",
       "      <th></th>\n",
       "      <th>column_name</th>\n",
       "      <th>type</th>\n",
       "      <th>min</th>\n",
       "      <th>max</th>\n",
       "      <th>number NaN</th>\n",
       "    </tr>\n",
       "  </thead>\n",
       "  <tbody>\n",
       "    <tr>\n",
       "      <th>0</th>\n",
       "      <td>doc_body</td>\n",
       "      <td>object</td>\n",
       "      <td>NaN</td>\n",
       "      <td>NaN</td>\n",
       "      <td>14</td>\n",
       "    </tr>\n",
       "    <tr>\n",
       "      <th>1</th>\n",
       "      <td>doc_description</td>\n",
       "      <td>object</td>\n",
       "      <td>NaN</td>\n",
       "      <td>NaN</td>\n",
       "      <td>3</td>\n",
       "    </tr>\n",
       "    <tr>\n",
       "      <th>2</th>\n",
       "      <td>doc_full_name</td>\n",
       "      <td>object</td>\n",
       "      <td>0 to Life-Changing App: New Apache SystemML AP...</td>\n",
       "      <td>“Schemas” in CouchDB</td>\n",
       "      <td>0</td>\n",
       "    </tr>\n",
       "    <tr>\n",
       "      <th>3</th>\n",
       "      <td>doc_status</td>\n",
       "      <td>object</td>\n",
       "      <td>Live</td>\n",
       "      <td>Live</td>\n",
       "      <td>0</td>\n",
       "    </tr>\n",
       "    <tr>\n",
       "      <th>4</th>\n",
       "      <td>article_id</td>\n",
       "      <td>int64</td>\n",
       "      <td>0</td>\n",
       "      <td>1050</td>\n",
       "      <td>0</td>\n",
       "    </tr>\n",
       "  </tbody>\n",
       "</table>\n",
       "</div>"
      ],
      "text/plain": [
       "       column_name    type                                                min  \\\n",
       "0         doc_body  object                                                NaN   \n",
       "1  doc_description  object                                                NaN   \n",
       "2    doc_full_name  object  0 to Life-Changing App: New Apache SystemML AP...   \n",
       "3       doc_status  object                                               Live   \n",
       "4       article_id   int64                                                  0   \n",
       "\n",
       "                    max  number NaN  \n",
       "0                   NaN          14  \n",
       "1                   NaN           3  \n",
       "2  “Schemas” in CouchDB           0  \n",
       "3                  Live           0  \n",
       "4                  1050           0  "
      ]
     },
     "metadata": {},
     "output_type": "display_data"
    },
    {
     "name": "stdout",
     "output_type": "stream",
     "text": [
      "___________________________________\n"
     ]
    },
    {
     "data": {
      "text/markdown": [
       "- **Dummy** columns:"
      ],
      "text/plain": [
       "<IPython.core.display.Markdown object>"
      ]
     },
     "metadata": {},
     "output_type": "display_data"
    },
    {
     "data": {
      "text/html": [
       "<div>\n",
       "<style scoped>\n",
       "    .dataframe tbody tr th:only-of-type {\n",
       "        vertical-align: middle;\n",
       "    }\n",
       "\n",
       "    .dataframe tbody tr th {\n",
       "        vertical-align: top;\n",
       "    }\n",
       "\n",
       "    .dataframe thead th {\n",
       "        text-align: right;\n",
       "    }\n",
       "</style>\n",
       "<table border=\"1\" class=\"dataframe\">\n",
       "  <thead>\n",
       "    <tr style=\"text-align: right;\">\n",
       "      <th></th>\n",
       "      <th>column_name</th>\n",
       "      <th>type</th>\n",
       "      <th>min</th>\n",
       "      <th>max</th>\n",
       "      <th>number NaN</th>\n",
       "    </tr>\n",
       "  </thead>\n",
       "  <tbody>\n",
       "  </tbody>\n",
       "</table>\n",
       "</div>"
      ],
      "text/plain": [
       "Empty DataFrame\n",
       "Columns: [column_name, type, min, max, number NaN]\n",
       "Index: []"
      ]
     },
     "metadata": {},
     "output_type": "display_data"
    },
    {
     "name": "stdout",
     "output_type": "stream",
     "text": [
      "___________________________________\n"
     ]
    },
    {
     "data": {
      "text/markdown": [
       "- There are ***0 numerical*** (0x int and 0x float) columns"
      ],
      "text/plain": [
       "<IPython.core.display.Markdown object>"
      ]
     },
     "metadata": {},
     "output_type": "display_data"
    },
    {
     "data": {
      "text/markdown": [
       "- There are ***5 categorical*** columns"
      ],
      "text/plain": [
       "<IPython.core.display.Markdown object>"
      ]
     },
     "metadata": {},
     "output_type": "display_data"
    },
    {
     "data": {
      "text/markdown": [
       "- There are ***0 dummy*** columns"
      ],
      "text/plain": [
       "<IPython.core.display.Markdown object>"
      ]
     },
     "metadata": {},
     "output_type": "display_data"
    },
    {
     "name": "stdout",
     "output_type": "stream",
     "text": [
      "___________________________________\n"
     ]
    },
    {
     "data": {
      "text/markdown": [
       "- There are ***17 missing values*** in total in the dataset"
      ],
      "text/plain": [
       "<IPython.core.display.Markdown object>"
      ]
     },
     "metadata": {},
     "output_type": "display_data"
    }
   ],
   "source": [
    "printmd('## DataFrame Summary: df_content')\n",
    "printmd('### Descriptive Statistics for df_content')\n",
    "display(df_content.describe(include='all').T)\n",
    "get_dataframe_summary(df_content, cat_list=['doc_body', 'doc_description', 'doc_full_name', 'doc_status', 'article_id'],dummy_list=[],\n",
    "                     filename='text_for_readme_df_content.txt')"
   ]
  },
  {
   "cell_type": "code",
   "execution_count": 15,
   "metadata": {},
   "outputs": [
    {
     "data": {
      "text/plain": [
       "doc_body           1036\n",
       "doc_description    1022\n",
       "doc_full_name      1051\n",
       "doc_status            1\n",
       "article_id         1051\n",
       "dtype: int64"
      ]
     },
     "execution_count": 15,
     "metadata": {},
     "output_type": "execute_result"
    }
   ],
   "source": [
    "# Find and explore duplicate articles\n",
    "df_content.nunique()"
   ]
  },
  {
   "cell_type": "code",
   "execution_count": 16,
   "metadata": {},
   "outputs": [],
   "source": [
    "# Remove any rows that have the same article_id - only keep the first\n",
    "df_content.drop_duplicates(subset='article_id', inplace=True)"
   ]
  },
  {
   "cell_type": "markdown",
   "metadata": {},
   "source": [
    "`3.` Use the cells below to find:\n",
    "\n",
    "**a.** The number of unique articles that have an interaction with a user.  \n",
    "**b.** The number of unique articles in the dataset (whether they have any interactions or not).<br>\n",
    "**c.** The number of unique users in the dataset. (excluding null values) <br>\n",
    "**d.** The number of user-article interactions in the dataset."
   ]
  },
  {
   "cell_type": "code",
   "execution_count": 17,
   "metadata": {},
   "outputs": [],
   "source": [
    "# Fill in the median and maximum number of user_article interactios below\n",
    "median_val = df.groupby('email')['article_id'].count().median() # 50% of individuals interact with ____ number of articles or fewer.\n",
    "max_views_by_user = df.groupby('email')['article_id'].count().max()# The maximum number of user-article interactions by any 1 user is ______."
   ]
  },
  {
   "cell_type": "code",
   "execution_count": 18,
   "metadata": {},
   "outputs": [],
   "source": [
    "unique_articles =  len(df['article_id'].unique()) # The number of unique articles that have at least one interaction\n",
    "total_articles = len(set(df_content['article_id'].tolist())) # The number of unique articles on the IBM platform\n",
    "unique_users = len(set(df['email'].dropna().tolist())) # The number of unique users\n",
    "user_article_interactions = df.shape[0] # The number of user-article interactions"
   ]
  },
  {
   "cell_type": "markdown",
   "metadata": {},
   "source": [
    "`4.` Use the cells below to find the most viewed **article_id**, as well as how often it was viewed.  After talking to the company leaders, the `email_mapper` function was deemed a reasonable way to map users to ids.  There were a small number of null values, and it was found that all of these null values likely belonged to a single user (which is how they are stored using the function below)."
   ]
  },
  {
   "cell_type": "code",
   "execution_count": 19,
   "metadata": {},
   "outputs": [],
   "source": [
    "most_viewed_article_id = str(df.groupby('article_id').count().sort_values(by='email', ascending=False).index[0]) # The most viewed article in the dataset as a string with one value following the decimal \n",
    "max_views = df.groupby('article_id').count()['email'].max()# The most viewed article in the dataset was viewed how many times?"
   ]
  },
  {
   "cell_type": "code",
   "execution_count": 20,
   "metadata": {},
   "outputs": [
    {
     "data": {
      "text/plain": [
       "(45993, 3)"
      ]
     },
     "execution_count": 20,
     "metadata": {},
     "output_type": "execute_result"
    }
   ],
   "source": [
    "df.shape"
   ]
  },
  {
   "cell_type": "code",
   "execution_count": 21,
   "metadata": {},
   "outputs": [
    {
     "name": "stdout",
     "output_type": "stream",
     "text": [
      "It looks like you have everything right here! Nice job!\n"
     ]
    }
   ],
   "source": [
    "## If you stored all your results in the variable names above, \n",
    "## you shouldn't need to change anything in this cell\n",
    "\n",
    "sol_1_dict = {\n",
    "    '`50% of individuals have _____ or fewer interactions.`': median_val,\n",
    "    '`The total number of user-article interactions in the dataset is ______.`': user_article_interactions,\n",
    "    '`The maximum number of user-article interactions by any 1 user is ______.`': max_views_by_user,\n",
    "    '`The most viewed article in the dataset was viewed _____ times.`': max_views,\n",
    "    '`The article_id of the most viewed article is ______.`': most_viewed_article_id,\n",
    "    '`The number of unique articles that have at least 1 rating ______.`': unique_articles,\n",
    "    '`The number of unique users in the dataset is ______`': unique_users,\n",
    "    '`The number of unique articles on the IBM platform`': total_articles\n",
    "}\n",
    "\n",
    "# Test your dictionary against the solution\n",
    "t.sol_1_test(sol_1_dict)"
   ]
  },
  {
   "cell_type": "code",
   "execution_count": 22,
   "metadata": {},
   "outputs": [
    {
     "data": {
      "text/markdown": [
       "### Short summary of most important df values:"
      ],
      "text/plain": [
       "<IPython.core.display.Markdown object>"
      ]
     },
     "metadata": {},
     "output_type": "display_data"
    },
    {
     "name": "stdout",
     "output_type": "stream",
     "text": [
      "shape of df:  (45993, 3)\n",
      "\n",
      "median =  3.0\n",
      "mean =  8.93084693085\n",
      "mode =  0    1\n",
      "dtype: int64\n",
      "\n",
      "`50% of individuals have \u001b[31m3.0\u001b[0m or fewer interactions.`\n",
      "`The total number of user-article interactions in the dataset is \u001b[31m45993\u001b[0m.`\n",
      "`The maximum number of user-article interactions by any 1 user is \u001b[31m364\u001b[0m.`\n",
      "`The most viewed article in the dataset was viewed \u001b[31m937\u001b[0m times.`\n",
      "`The articleid of the most viewed article is \u001b[31m1429.0\u001b[0m.`\n",
      "`The number of unique articles that have at least 1 rating \u001b[31m714\u001b[0m.`\n",
      "`The number of unique users in the dataset is \u001b[31m5148\u001b[0m`\n",
      "`The number of unique articles on the IBM platform \u001b[31m1051\u001b[0m`\n"
     ]
    }
   ],
   "source": [
    "printmd('### Short summary of most important df values:')\n",
    "print('shape of df: ', df.shape)\n",
    "print()\n",
    "print('median = ',df.groupby('email')['article_id'].count().median())\n",
    "print('mean = ', df.groupby('email')['article_id'].count().mean())\n",
    "print('mode = ', df.groupby('email')['article_id'].count().mode())\n",
    "print()\n",
    "for key, value in sol_1_dict.items():\n",
    "    print(key.replace('_____',colored(str(value), 'red')).replace('_','').replace('platform', 'platform ' + colored(str(total_articles), 'red')))\n"
   ]
  },
  {
   "cell_type": "markdown",
   "metadata": {},
   "source": [
    "### <a class=\"anchor\" id=\"Rank\">Part II: Rank-Based Recommendations</a>\n",
    "\n",
    "Unlike in the earlier lessons, we don't actually have ratings for whether a user liked an article or not.  We only know that a user has interacted with an article.  In these cases, the popularity of an article can really only be based on how often an article was interacted with.\n",
    "\n",
    "`1.` Fill in the function below to return the **n** top articles ordered with most interactions as the top. Test your function using the tests below."
   ]
  },
  {
   "cell_type": "code",
   "execution_count": 23,
   "metadata": {},
   "outputs": [
    {
     "data": {
      "text/html": [
       "<div>\n",
       "<style scoped>\n",
       "    .dataframe tbody tr th:only-of-type {\n",
       "        vertical-align: middle;\n",
       "    }\n",
       "\n",
       "    .dataframe tbody tr th {\n",
       "        vertical-align: top;\n",
       "    }\n",
       "\n",
       "    .dataframe thead th {\n",
       "        text-align: right;\n",
       "    }\n",
       "</style>\n",
       "<table border=\"1\" class=\"dataframe\">\n",
       "  <thead>\n",
       "    <tr style=\"text-align: right;\">\n",
       "      <th></th>\n",
       "      <th>article_id</th>\n",
       "      <th>title</th>\n",
       "      <th>user_id</th>\n",
       "    </tr>\n",
       "  </thead>\n",
       "  <tbody>\n",
       "    <tr>\n",
       "      <th>0</th>\n",
       "      <td>1430.0</td>\n",
       "      <td>using pixiedust for fast, flexible, and easier...</td>\n",
       "      <td>1</td>\n",
       "    </tr>\n",
       "    <tr>\n",
       "      <th>1</th>\n",
       "      <td>1314.0</td>\n",
       "      <td>healthcare python streaming application demo</td>\n",
       "      <td>2</td>\n",
       "    </tr>\n",
       "    <tr>\n",
       "      <th>2</th>\n",
       "      <td>1429.0</td>\n",
       "      <td>use deep learning for image classification</td>\n",
       "      <td>3</td>\n",
       "    </tr>\n",
       "    <tr>\n",
       "      <th>3</th>\n",
       "      <td>1338.0</td>\n",
       "      <td>ml optimization using cognitive assistant</td>\n",
       "      <td>4</td>\n",
       "    </tr>\n",
       "    <tr>\n",
       "      <th>4</th>\n",
       "      <td>1276.0</td>\n",
       "      <td>deploy your python model as a restful api</td>\n",
       "      <td>5</td>\n",
       "    </tr>\n",
       "  </tbody>\n",
       "</table>\n",
       "</div>"
      ],
      "text/plain": [
       "   article_id                                              title  user_id\n",
       "0      1430.0  using pixiedust for fast, flexible, and easier...        1\n",
       "1      1314.0       healthcare python streaming application demo        2\n",
       "2      1429.0         use deep learning for image classification        3\n",
       "3      1338.0          ml optimization using cognitive assistant        4\n",
       "4      1276.0          deploy your python model as a restful api        5"
      ]
     },
     "execution_count": 23,
     "metadata": {},
     "output_type": "execute_result"
    }
   ],
   "source": [
    "## No need to change the code here - this will be helpful for later parts of the notebook\n",
    "# Run this cell to map the user email to a user_id column and remove the email column\n",
    "\n",
    "def email_mapper():\n",
    "    coded_dict = dict()\n",
    "    cter = 1\n",
    "    email_encoded = []\n",
    "    \n",
    "    for val in df['email']:\n",
    "        if val not in coded_dict:\n",
    "            coded_dict[val] = cter\n",
    "            cter+=1\n",
    "        \n",
    "        email_encoded.append(coded_dict[val])\n",
    "    return email_encoded\n",
    "\n",
    "email_encoded = email_mapper()\n",
    "del df['email']\n",
    "df['user_id'] = email_encoded\n",
    "\n",
    "# show header\n",
    "df.head()"
   ]
  },
  {
   "cell_type": "markdown",
   "metadata": {},
   "source": [
    "### Important functions for Rank Based Recommendation"
   ]
  },
  {
   "cell_type": "code",
   "execution_count": 24,
   "metadata": {},
   "outputs": [],
   "source": [
    "def get_top_articles(n, df=df):\n",
    "    ''' Create a list of the top 'n' article titles \n",
    "    \n",
    "        INPUTS:\n",
    "        ------------\n",
    "            n - (int) the number of top articles to return\n",
    "            df - (pandas dataframe) df as defined at the top of the notebook \n",
    "\n",
    "        OUTPUTS:\n",
    "        ------------\n",
    "            top_articles - (list) A list of the top 'n' article titles \n",
    "    '''\n",
    "    # Get a list of the top 'n' article ids\n",
    "    top_articles_ids = get_top_article_ids(n, df)\n",
    "    \n",
    "    # Convert back the string elements in this list to float elements\n",
    "    top_articles_ids = [float(article_id) for article_id in top_articles_ids]\n",
    "    \n",
    "    # Transform those ids to names by using the title column of df\n",
    "    top_articles = list(df.drop_duplicates(subset=['article_id']).set_index('article_id').loc[top_articles_ids]['title'])\n",
    "    \n",
    "    return top_articles # Return the top article titles from df (not df_content)\n",
    "\n",
    "def get_top_article_ids(n, df=df):\n",
    "    ''' Create a list of the top 'n' article ids \n",
    "    \n",
    "        INPUTS:\n",
    "        ------------\n",
    "            n - (int) the number of top articles to return\n",
    "            df - (pandas dataframe) df as defined at the top of the notebook \n",
    "\n",
    "        OUTPUTS:\n",
    "        ------------\n",
    "            top_articles - (list) A list of the top 'n' article ids \n",
    "    '''\n",
    "    # Get the top articles as a list of id float numbers \n",
    "    top_articles = list(df.groupby('article_id').count().sort_values(by='user_id', ascending=False).index[0:n])\n",
    "    \n",
    "    # Convert the float elements in this list to string elements \n",
    "    top_articles = [str(article_id) for article_id in top_articles]\n",
    " \n",
    "    return top_articles # Return the top article ids"
   ]
  },
  {
   "cell_type": "code",
   "execution_count": 25,
   "metadata": {},
   "outputs": [
    {
     "name": "stdout",
     "output_type": "stream",
     "text": [
      "['use deep learning for image classification', 'insights from new york car accident reports', 'visualize car data with brunel', 'use xgboost, scikit-learn & ibm watson machine learning apis', 'predicting churn with the spss random tree algorithm', 'healthcare python streaming application demo', 'finding optimal locations of new store using decision optimization', 'apache spark lab, part 1: basic concepts', 'analyze energy consumption in buildings', 'gosales transactions for logistic regression model']\n",
      "['1429.0', '1330.0', '1431.0', '1427.0', '1364.0', '1314.0', '1293.0', '1170.0', '1162.0', '1304.0']\n"
     ]
    }
   ],
   "source": [
    "print(get_top_articles(10))\n",
    "print(get_top_article_ids(10))"
   ]
  },
  {
   "cell_type": "code",
   "execution_count": 26,
   "metadata": {},
   "outputs": [
    {
     "name": "stdout",
     "output_type": "stream",
     "text": [
      "Your top_5 looks like the solution list! Nice job.\n",
      "Your top_10 looks like the solution list! Nice job.\n",
      "Your top_20 looks like the solution list! Nice job.\n"
     ]
    }
   ],
   "source": [
    "# Test your function by returning the top 5, 10, and 20 articles\n",
    "top_5 = get_top_articles(5)\n",
    "top_10 = get_top_articles(10)\n",
    "top_20 = get_top_articles(20)\n",
    "\n",
    "# Test each of your three lists from above\n",
    "t.sol_2_test(get_top_articles)"
   ]
  },
  {
   "cell_type": "markdown",
   "metadata": {},
   "source": [
    "### <a class=\"anchor\" id=\"User-User\">Part III: User-User Based Collaborative Filtering</a>\n",
    "\n",
    "\n",
    "`1.` Use the function below to reformat the **df** dataframe to be shaped with users as the rows and articles as the columns.  \n",
    "\n",
    "* Each **user** should only appear in each **row** once.\n",
    "\n",
    "\n",
    "* Each **article** should only show up in one **column**.  \n",
    "\n",
    "\n",
    "* **If a user has interacted with an article, then place a 1 where the user-row meets for that article-column**.  It does not matter how many times a user has interacted with the article, all entries where a user has interacted with an article should be a 1.  \n",
    "\n",
    "\n",
    "* **If a user has not interacted with an item, then place a zero where the user-row meets for that article-column**. \n",
    "\n",
    "Use the tests to make sure the basic structure of your matrix matches what is expected by the solution."
   ]
  },
  {
   "cell_type": "code",
   "execution_count": 27,
   "metadata": {},
   "outputs": [],
   "source": [
    "# create the user-article matrix with 1's and 0's\n",
    "def create_user_item_matrix(df):\n",
    "    ''' Create a matrix with user ids as rows and article ids on the columns with 1 values where a user interacted with \n",
    "        an article and a 0 otherwise\n",
    "    \n",
    "        INPUTS:\n",
    "        ------------\n",
    "            df - pandas dataframe with article_id, title, user_id columns\n",
    "\n",
    "        OUTPUTS:\n",
    "        ------------\n",
    "            user_item - user item matrix \n",
    "    '''\n",
    "    \n",
    "    # Insert a new column 'interaction' which places 1 in each row \n",
    "    df['interaction'] = 1\n",
    "    \n",
    "    # Create a user-by-item matrix\n",
    "    user_item = df.groupby(['user_id', 'article_id'])['interaction'].max().unstack()\n",
    "    \n",
    "    # In case of any NaN values isert a 0\n",
    "    user_item.fillna(0, inplace=True)\n",
    "    \n",
    "    return user_item # return the user_item matrix \n",
    "\n",
    "user_item = create_user_item_matrix(df)"
   ]
  },
  {
   "cell_type": "code",
   "execution_count": 28,
   "metadata": {},
   "outputs": [
    {
     "name": "stdout",
     "output_type": "stream",
     "text": [
      "You have passed our quick tests!  Please proceed!\n"
     ]
    }
   ],
   "source": [
    "## Tests: You should just need to run this cell.  Don't change the code.\n",
    "assert user_item.shape[0] == 5149, \"Oops!  The number of users in the user-article matrix doesn't look right.\"\n",
    "assert user_item.shape[1] == 714, \"Oops!  The number of articles in the user-article matrix doesn't look right.\"\n",
    "assert user_item.sum(axis=1)[1] == 36, \"Oops!  The number of articles seen by user 1 doesn't look right.\"\n",
    "print(\"You have passed our quick tests!  Please proceed!\")"
   ]
  },
  {
   "cell_type": "code",
   "execution_count": 29,
   "metadata": {},
   "outputs": [
    {
     "data": {
      "text/markdown": [
       "### 10x10 shortcut of the user-item matrix"
      ],
      "text/plain": [
       "<IPython.core.display.Markdown object>"
      ]
     },
     "metadata": {},
     "output_type": "display_data"
    },
    {
     "data": {
      "text/html": [
       "<div>\n",
       "<style scoped>\n",
       "    .dataframe tbody tr th:only-of-type {\n",
       "        vertical-align: middle;\n",
       "    }\n",
       "\n",
       "    .dataframe tbody tr th {\n",
       "        vertical-align: top;\n",
       "    }\n",
       "\n",
       "    .dataframe thead th {\n",
       "        text-align: right;\n",
       "    }\n",
       "</style>\n",
       "<table border=\"1\" class=\"dataframe\">\n",
       "  <thead>\n",
       "    <tr style=\"text-align: right;\">\n",
       "      <th>article_id</th>\n",
       "      <th>0.0</th>\n",
       "      <th>2.0</th>\n",
       "      <th>4.0</th>\n",
       "      <th>8.0</th>\n",
       "      <th>9.0</th>\n",
       "      <th>12.0</th>\n",
       "      <th>14.0</th>\n",
       "      <th>15.0</th>\n",
       "      <th>16.0</th>\n",
       "      <th>18.0</th>\n",
       "    </tr>\n",
       "    <tr>\n",
       "      <th>user_id</th>\n",
       "      <th></th>\n",
       "      <th></th>\n",
       "      <th></th>\n",
       "      <th></th>\n",
       "      <th></th>\n",
       "      <th></th>\n",
       "      <th></th>\n",
       "      <th></th>\n",
       "      <th></th>\n",
       "      <th></th>\n",
       "    </tr>\n",
       "  </thead>\n",
       "  <tbody>\n",
       "    <tr>\n",
       "      <th>1</th>\n",
       "      <td>0.0</td>\n",
       "      <td>0.0</td>\n",
       "      <td>0.0</td>\n",
       "      <td>0.0</td>\n",
       "      <td>0.0</td>\n",
       "      <td>0.0</td>\n",
       "      <td>0.0</td>\n",
       "      <td>0.0</td>\n",
       "      <td>0.0</td>\n",
       "      <td>0.0</td>\n",
       "    </tr>\n",
       "    <tr>\n",
       "      <th>2</th>\n",
       "      <td>0.0</td>\n",
       "      <td>0.0</td>\n",
       "      <td>0.0</td>\n",
       "      <td>0.0</td>\n",
       "      <td>0.0</td>\n",
       "      <td>0.0</td>\n",
       "      <td>0.0</td>\n",
       "      <td>0.0</td>\n",
       "      <td>0.0</td>\n",
       "      <td>0.0</td>\n",
       "    </tr>\n",
       "    <tr>\n",
       "      <th>3</th>\n",
       "      <td>0.0</td>\n",
       "      <td>0.0</td>\n",
       "      <td>0.0</td>\n",
       "      <td>0.0</td>\n",
       "      <td>0.0</td>\n",
       "      <td>1.0</td>\n",
       "      <td>0.0</td>\n",
       "      <td>0.0</td>\n",
       "      <td>0.0</td>\n",
       "      <td>0.0</td>\n",
       "    </tr>\n",
       "    <tr>\n",
       "      <th>4</th>\n",
       "      <td>0.0</td>\n",
       "      <td>0.0</td>\n",
       "      <td>0.0</td>\n",
       "      <td>0.0</td>\n",
       "      <td>0.0</td>\n",
       "      <td>0.0</td>\n",
       "      <td>0.0</td>\n",
       "      <td>0.0</td>\n",
       "      <td>0.0</td>\n",
       "      <td>0.0</td>\n",
       "    </tr>\n",
       "    <tr>\n",
       "      <th>5</th>\n",
       "      <td>0.0</td>\n",
       "      <td>0.0</td>\n",
       "      <td>0.0</td>\n",
       "      <td>0.0</td>\n",
       "      <td>0.0</td>\n",
       "      <td>0.0</td>\n",
       "      <td>0.0</td>\n",
       "      <td>0.0</td>\n",
       "      <td>0.0</td>\n",
       "      <td>0.0</td>\n",
       "    </tr>\n",
       "    <tr>\n",
       "      <th>6</th>\n",
       "      <td>0.0</td>\n",
       "      <td>0.0</td>\n",
       "      <td>0.0</td>\n",
       "      <td>0.0</td>\n",
       "      <td>0.0</td>\n",
       "      <td>0.0</td>\n",
       "      <td>0.0</td>\n",
       "      <td>0.0</td>\n",
       "      <td>0.0</td>\n",
       "      <td>0.0</td>\n",
       "    </tr>\n",
       "    <tr>\n",
       "      <th>7</th>\n",
       "      <td>0.0</td>\n",
       "      <td>0.0</td>\n",
       "      <td>0.0</td>\n",
       "      <td>0.0</td>\n",
       "      <td>0.0</td>\n",
       "      <td>0.0</td>\n",
       "      <td>0.0</td>\n",
       "      <td>0.0</td>\n",
       "      <td>0.0</td>\n",
       "      <td>0.0</td>\n",
       "    </tr>\n",
       "    <tr>\n",
       "      <th>8</th>\n",
       "      <td>0.0</td>\n",
       "      <td>0.0</td>\n",
       "      <td>0.0</td>\n",
       "      <td>0.0</td>\n",
       "      <td>0.0</td>\n",
       "      <td>0.0</td>\n",
       "      <td>1.0</td>\n",
       "      <td>0.0</td>\n",
       "      <td>0.0</td>\n",
       "      <td>0.0</td>\n",
       "    </tr>\n",
       "    <tr>\n",
       "      <th>9</th>\n",
       "      <td>0.0</td>\n",
       "      <td>0.0</td>\n",
       "      <td>0.0</td>\n",
       "      <td>0.0</td>\n",
       "      <td>0.0</td>\n",
       "      <td>0.0</td>\n",
       "      <td>1.0</td>\n",
       "      <td>0.0</td>\n",
       "      <td>1.0</td>\n",
       "      <td>0.0</td>\n",
       "    </tr>\n",
       "    <tr>\n",
       "      <th>10</th>\n",
       "      <td>0.0</td>\n",
       "      <td>0.0</td>\n",
       "      <td>0.0</td>\n",
       "      <td>0.0</td>\n",
       "      <td>0.0</td>\n",
       "      <td>0.0</td>\n",
       "      <td>0.0</td>\n",
       "      <td>0.0</td>\n",
       "      <td>0.0</td>\n",
       "      <td>0.0</td>\n",
       "    </tr>\n",
       "  </tbody>\n",
       "</table>\n",
       "</div>"
      ],
      "text/plain": [
       "article_id  0.0   2.0   4.0   8.0   9.0   12.0  14.0  15.0  16.0  18.0\n",
       "user_id                                                               \n",
       "1            0.0   0.0   0.0   0.0   0.0   0.0   0.0   0.0   0.0   0.0\n",
       "2            0.0   0.0   0.0   0.0   0.0   0.0   0.0   0.0   0.0   0.0\n",
       "3            0.0   0.0   0.0   0.0   0.0   1.0   0.0   0.0   0.0   0.0\n",
       "4            0.0   0.0   0.0   0.0   0.0   0.0   0.0   0.0   0.0   0.0\n",
       "5            0.0   0.0   0.0   0.0   0.0   0.0   0.0   0.0   0.0   0.0\n",
       "6            0.0   0.0   0.0   0.0   0.0   0.0   0.0   0.0   0.0   0.0\n",
       "7            0.0   0.0   0.0   0.0   0.0   0.0   0.0   0.0   0.0   0.0\n",
       "8            0.0   0.0   0.0   0.0   0.0   0.0   1.0   0.0   0.0   0.0\n",
       "9            0.0   0.0   0.0   0.0   0.0   0.0   1.0   0.0   1.0   0.0\n",
       "10           0.0   0.0   0.0   0.0   0.0   0.0   0.0   0.0   0.0   0.0"
      ]
     },
     "metadata": {},
     "output_type": "display_data"
    },
    {
     "data": {
      "text/markdown": [
       "#### Shape of user_item: (5149, 714)"
      ],
      "text/plain": [
       "<IPython.core.display.Markdown object>"
      ]
     },
     "metadata": {},
     "output_type": "display_data"
    },
    {
     "data": {
      "text/markdown": [
       "#### Example: The number of articles seen by user 1 = 36.0"
      ],
      "text/plain": [
       "<IPython.core.display.Markdown object>"
      ]
     },
     "metadata": {},
     "output_type": "display_data"
    }
   ],
   "source": [
    "printmd('### 10x10 shortcut of the user-item matrix')\n",
    "display(user_item.iloc[:10,:10])\n",
    "\n",
    "printmd('#### Shape of user_item: ' + str(user_item.shape))\n",
    "printmd('#### Example: The number of articles seen by user 1 = ' + str(user_item.sum(axis=1)[1]))"
   ]
  },
  {
   "cell_type": "markdown",
   "metadata": {},
   "source": [
    "`2.` Complete the function below which should take a user_id and provide an ordered list of the most similar users to that user (from most similar to least similar).  The returned result should not contain the provided user_id, as we know that each user is similar to him/herself. Because the results for each user here are binary, it (perhaps) makes sense to compute similarity as the dot product of two users. \n",
    "\n",
    "Use the tests to test your function."
   ]
  },
  {
   "cell_type": "code",
   "execution_count": 30,
   "metadata": {},
   "outputs": [
    {
     "data": {
      "text/plain": [
       "1"
      ]
     },
     "execution_count": 30,
     "metadata": {},
     "output_type": "execute_result"
    }
   ],
   "source": [
    "user_id = 2\n",
    "user_idx = np.where(user_item.index == user_id)[0][0]\n",
    "user_idx"
   ]
  },
  {
   "cell_type": "code",
   "execution_count": 31,
   "metadata": {},
   "outputs": [],
   "source": [
    "user_item.loc[3];"
   ]
  },
  {
   "cell_type": "code",
   "execution_count": 32,
   "metadata": {},
   "outputs": [
    {
     "data": {
      "text/plain": [
       "(1, 714)"
      ]
     },
     "execution_count": 32,
     "metadata": {},
     "output_type": "execute_result"
    }
   ],
   "source": [
    "np.array(user_item.loc[user_id]).reshape(-1,user_item.loc[user_id].shape[0]).shape"
   ]
  },
  {
   "cell_type": "code",
   "execution_count": 33,
   "metadata": {},
   "outputs": [],
   "source": [
    "user_1 = np.array(user_item.loc[user_id]).reshape(-1,user_item.loc[user_id].shape[0])"
   ]
  },
  {
   "cell_type": "code",
   "execution_count": 34,
   "metadata": {},
   "outputs": [
    {
     "data": {
      "text/plain": [
       "(714, 5149)"
      ]
     },
     "execution_count": 34,
     "metadata": {},
     "output_type": "execute_result"
    }
   ],
   "source": [
    "np.transpose(user_item).shape"
   ]
  },
  {
   "cell_type": "code",
   "execution_count": 35,
   "metadata": {},
   "outputs": [
    {
     "name": "stdout",
     "output_type": "stream",
     "text": [
      "[[ 2.  6.  1. ...,  0.  0.  0.]]\n"
     ]
    }
   ],
   "source": [
    "# Take the dot product to obtain a user x user matrix of similarities\n",
    "dot_prod_users = user_1.dot(np.transpose(user_item))\n",
    "print(dot_prod_users)"
   ]
  },
  {
   "cell_type": "code",
   "execution_count": 36,
   "metadata": {},
   "outputs": [
    {
     "data": {
      "text/plain": [
       "array([[2574, 3262, 3261, ...,   48, 3763,    1]])"
      ]
     },
     "execution_count": 36,
     "metadata": {},
     "output_type": "execute_result"
    }
   ],
   "source": [
    "# find the most similar user indices - to start I said they need to be the same for all content\n",
    "similar_idxs = dot_prod_users.argsort()[-10:][::-1]\n",
    "similar_idxs\n",
    "    "
   ]
  },
  {
   "cell_type": "markdown",
   "metadata": {},
   "source": [
    "### Collaborative filtering: Find similar users"
   ]
  },
  {
   "cell_type": "code",
   "execution_count": 37,
   "metadata": {},
   "outputs": [],
   "source": [
    "from collections import Counter\n",
    "def find_similar_users(user_id, user_item=user_item, return_sim=False):\n",
    "    ''' Computes the similarity of every pair of users based on the dot product\n",
    "    \n",
    "        INPUTS:\n",
    "        ------------\n",
    "            user_id - (int) a user_id\n",
    "            user_item - (pandas dataframe) matrix of users by articles: \n",
    "                        1's when a user has interacted with an article, 0 otherwise\n",
    "\n",
    "        OUTPUTS:\n",
    "        ------------\n",
    "            if return_sim==False:\n",
    "                most_similar_users - (list) a list of the users in order from most to least similar\n",
    "            else: \n",
    "                df_similarity  - (dataframe), similarity dataframe for actual user with user_id \n",
    "                                  col1: neighbour ids\n",
    "                                  col2: similarities                                   \n",
    "    '''\n",
    "    \n",
    "    # get the row for the actual user_id from user_item matrix in the shape (1,714)\n",
    "    user_1 = np.atleast_2d(user_item.loc[user_id, :])\n",
    "    \n",
    "    # build the dot product of user_1 with the transposed user_item matrix (all users)\n",
    "    # Matrix multiplication shaping: (1x714) x (714x5149) = (1x5149)\n",
    "    dot_prod = user_1.dot(np.transpose(user_item))\n",
    "    \n",
    "    # construct a dictionary, key = user ids, value = similarity with user_id\n",
    "    similarity = {}\n",
    "    for i in range(1, user_item.shape[0]+1):\n",
    "        similarity[i] = dot_prod[0][i-1]\n",
    "    \n",
    "    # sort this dicctionary with descending similarity\n",
    "    c = Counter(similarity)\n",
    "    similarity_ordered = c.most_common()\n",
    "    \n",
    "    # get list of neighbourhood users\n",
    "    neighbours = [item[0] for item in  similarity_ordered]\n",
    "    \n",
    "    \n",
    "    if return_sim == False:\n",
    "        # remove actual user with user_id from most_similar_users\n",
    "        neighbours.remove(user_id)\n",
    "        most_similar_users = neighbours\n",
    "        \n",
    "        return most_similar_users # return a list of the users in order from most to least similar\n",
    "    \n",
    "    else:\n",
    "        # get list of neighbourhood similarities \n",
    "        similarities = [item[1] for item in  similarity_ordered]\n",
    "        df_similarity = pd.DataFrame({'neighbour_id': neighbours, 'similarity': similarities})\n",
    "        return df_similarity\n",
    "        "
   ]
  },
  {
   "cell_type": "code",
   "execution_count": 38,
   "metadata": {},
   "outputs": [
    {
     "data": {
      "text/markdown": [
       "### Short Test of find_similar_users(...) function"
      ],
      "text/plain": [
       "<IPython.core.display.Markdown object>"
      ]
     },
     "metadata": {},
     "output_type": "display_data"
    },
    {
     "name": "stdout",
     "output_type": "stream",
     "text": [
      "The 10 most similar users to user 1 are: [3933, 23, 3782, 203, 4459, 131, 3870, 46, 4201, 49]\n",
      "The 5 most similar users to user 3933 are: [1, 23, 3782, 203, 4459]\n",
      "The 3 most similar users to user 46 are: [4201, 23, 3782]\n"
     ]
    }
   ],
   "source": [
    "# Do a spot check of your function\n",
    "printmd('### Short Test of find_similar_users(...) function')\n",
    "print(\"The 10 most similar users to user 1 are: {}\".format(find_similar_users(1)[:10]))\n",
    "print(\"The 5 most similar users to user 3933 are: {}\".format(find_similar_users(3933)[:5]))\n",
    "print(\"The 3 most similar users to user 46 are: {}\".format(find_similar_users(46)[:3]))"
   ]
  },
  {
   "cell_type": "markdown",
   "metadata": {},
   "source": [
    "`3.` Now that you have a function that provides the most similar users to each user, you will want to use these users to find articles you can recommend.  Complete the functions below to return the articles you would recommend to each user. "
   ]
  },
  {
   "cell_type": "code",
   "execution_count": 39,
   "metadata": {},
   "outputs": [
    {
     "data": {
      "text/html": [
       "<div>\n",
       "<style scoped>\n",
       "    .dataframe tbody tr th:only-of-type {\n",
       "        vertical-align: middle;\n",
       "    }\n",
       "\n",
       "    .dataframe tbody tr th {\n",
       "        vertical-align: top;\n",
       "    }\n",
       "\n",
       "    .dataframe thead th {\n",
       "        text-align: right;\n",
       "    }\n",
       "</style>\n",
       "<table border=\"1\" class=\"dataframe\">\n",
       "  <thead>\n",
       "    <tr style=\"text-align: right;\">\n",
       "      <th></th>\n",
       "      <th>article_id</th>\n",
       "      <th>title</th>\n",
       "      <th>user_id</th>\n",
       "      <th>interaction</th>\n",
       "    </tr>\n",
       "  </thead>\n",
       "  <tbody>\n",
       "    <tr>\n",
       "      <th>0</th>\n",
       "      <td>1430.0</td>\n",
       "      <td>using pixiedust for fast, flexible, and easier...</td>\n",
       "      <td>1</td>\n",
       "      <td>1</td>\n",
       "    </tr>\n",
       "    <tr>\n",
       "      <th>1</th>\n",
       "      <td>1314.0</td>\n",
       "      <td>healthcare python streaming application demo</td>\n",
       "      <td>2</td>\n",
       "      <td>1</td>\n",
       "    </tr>\n",
       "    <tr>\n",
       "      <th>2</th>\n",
       "      <td>1429.0</td>\n",
       "      <td>use deep learning for image classification</td>\n",
       "      <td>3</td>\n",
       "      <td>1</td>\n",
       "    </tr>\n",
       "    <tr>\n",
       "      <th>3</th>\n",
       "      <td>1338.0</td>\n",
       "      <td>ml optimization using cognitive assistant</td>\n",
       "      <td>4</td>\n",
       "      <td>1</td>\n",
       "    </tr>\n",
       "    <tr>\n",
       "      <th>4</th>\n",
       "      <td>1276.0</td>\n",
       "      <td>deploy your python model as a restful api</td>\n",
       "      <td>5</td>\n",
       "      <td>1</td>\n",
       "    </tr>\n",
       "  </tbody>\n",
       "</table>\n",
       "</div>"
      ],
      "text/plain": [
       "   article_id                                              title  user_id  \\\n",
       "0      1430.0  using pixiedust for fast, flexible, and easier...        1   \n",
       "1      1314.0       healthcare python streaming application demo        2   \n",
       "2      1429.0         use deep learning for image classification        3   \n",
       "3      1338.0          ml optimization using cognitive assistant        4   \n",
       "4      1276.0          deploy your python model as a restful api        5   \n",
       "\n",
       "   interaction  \n",
       "0            1  \n",
       "1            1  \n",
       "2            1  \n",
       "3            1  \n",
       "4            1  "
      ]
     },
     "execution_count": 39,
     "metadata": {},
     "output_type": "execute_result"
    }
   ],
   "source": [
    "df.head()"
   ]
  },
  {
   "cell_type": "code",
   "execution_count": 40,
   "metadata": {},
   "outputs": [
    {
     "data": {
      "text/plain": [
       "[1314.0, 1305.0, 1024.0, 1176.0, 1422.0, 1427.0]"
      ]
     },
     "execution_count": 40,
     "metadata": {},
     "output_type": "execute_result"
    }
   ],
   "source": [
    "df[df['user_id']== 2]['article_id'].tolist()"
   ]
  },
  {
   "cell_type": "code",
   "execution_count": 41,
   "metadata": {},
   "outputs": [],
   "source": [
    "user_item.loc[3][user_item.loc[3] !=0].index.tolist();"
   ]
  },
  {
   "cell_type": "code",
   "execution_count": 42,
   "metadata": {},
   "outputs": [
    {
     "data": {
      "text/plain": [
       "1051"
      ]
     },
     "execution_count": 42,
     "metadata": {},
     "output_type": "execute_result"
    }
   ],
   "source": [
    "len(df_content)"
   ]
  },
  {
   "cell_type": "code",
   "execution_count": 43,
   "metadata": {},
   "outputs": [],
   "source": [
    "article_ids= [0,1,2,3,4]"
   ]
  },
  {
   "cell_type": "code",
   "execution_count": 44,
   "metadata": {},
   "outputs": [
    {
     "data": {
      "text/plain": [
       "['Detect Malfunctioning IoT Sensors with Streaming Analytics',\n",
       " 'Communicating data science: A guide to presenting your work',\n",
       " 'This Week in Data Science (April 18, 2017)',\n",
       " 'DataLayer Conference: Boost the performance of your distributed database',\n",
       " 'Analyze NY Restaurant data using Spark in DSX']"
      ]
     },
     "execution_count": 44,
     "metadata": {},
     "output_type": "execute_result"
    }
   ],
   "source": [
    "df_content[df_content['article_id'].isin(article_ids)]['doc_full_name'].tolist()"
   ]
  },
  {
   "cell_type": "markdown",
   "metadata": {},
   "source": [
    "### Collaborative Filtering: Make Recommendations - Approach 1"
   ]
  },
  {
   "cell_type": "code",
   "execution_count": 45,
   "metadata": {},
   "outputs": [],
   "source": [
    "def get_article_names(article_ids, df=df):\n",
    "    ''' Provide a list of article names associated with the list of article ids\n",
    "    \n",
    "        INPUTS:\n",
    "        ------------\n",
    "            article_ids - (list) a list of article ids\n",
    "            df - (pandas dataframe) df as defined at the top of the notebook\n",
    "\n",
    "        OUTPUTS:\n",
    "        ------------\n",
    "            article_names - (list) a list of article names associated with the list of article ids \n",
    "                            (this is identified by the title column)\n",
    "    '''\n",
    "    # A list of article names associated with the list of article ids \n",
    "    article_names = list(set(list(df[df['article_id'].astype(str).isin(article_ids)]['title'])))\n",
    "    \n",
    "    return article_names # Return the article names associated with list of article ids\n",
    "\n",
    "\n",
    "def get_user_articles(user_id, user_item=user_item):\n",
    "    ''' Provide a list of article ids and names associated with the list of article ids\n",
    "        INPUTS:\n",
    "        ------------\n",
    "            user_id - (int) a user id\n",
    "            user_item - (pandas dataframe) matrix of users by articles: \n",
    "                        1's when a user has interacted with an article, 0 otherwise\n",
    "\n",
    "        OUTPUTS:\n",
    "        ------------\n",
    "            article_ids - (list) a list of the article ids seen by the user\n",
    "            article_names - (list) a list of article names associated with the list of article ids \n",
    "                            (this is identified by the doc_full_name column in df_content)\n",
    "\n",
    "            Description:\n",
    "            Provides a list of the article_ids and article titles that have been seen by a user\n",
    "    '''\n",
    "    # Get a list of the article ids seen by the user. Provide each element of this list as a string value \n",
    "    article_ids = user_item.loc[user_id][user_item.loc[user_id] != 0].index.astype(str).tolist()\n",
    "    \n",
    "    # By using thgis list of ids get the names of the articles (list)\n",
    "    article_names = get_article_names(article_ids)\n",
    "    \n",
    "    return article_ids, article_names # return the ids and names\n",
    "\n",
    "\n",
    "def user_user_recs(user_id, m=10):\n",
    "    '''\n",
    "        INPUTS:\n",
    "        ------------\n",
    "            user_id - (int) a user id\n",
    "            m - (int) the number of recommendations you want for the user\n",
    "\n",
    "        OUTPUTS:\n",
    "        ------------\n",
    "            recs - (list) a list of recommendations for the user\n",
    "\n",
    "            Description:\n",
    "            Loops through the users based on closeness to the input user_id\n",
    "            For each user - finds articles the user hasn't seen before and provides them as recs\n",
    "            Does this until m recommendations are found\n",
    "\n",
    "            Notes:\n",
    "            Users who are the same closeness are chosen arbitrarily as the 'next' user\n",
    "\n",
    "            For the user where the number of recommended articles starts below m \n",
    "            and ends exceeding m, the last items are chosen arbitrarily\n",
    "    \n",
    "    '''\n",
    "    \n",
    "    # articles_seen by user (we don't want to recommend these)\n",
    "    articles_seen_ids, articles_seen_names = get_user_articles(user_id)\n",
    "    closest_neighbors = find_similar_users(user_id)\n",
    "    \n",
    "    # Keep the recommended articles here\n",
    "    recs = np.array([])\n",
    "    \n",
    "    # Go through the neighbors and identify articles they like the user hasn't seen\n",
    "    for neighbor in closest_neighbors:\n",
    "        # get article ids and names as lists (of neighbours)\n",
    "        neighbs_likes_ids, neighbs_likes_names  = get_user_articles(neighbor)\n",
    "        \n",
    "        # Obtain recommendations for the actual neighbor\n",
    "        new_recs = np.setdiff1d(neighbs_likes_ids, articles_seen_ids, assume_unique=True)\n",
    "    \n",
    "        # Update recs with new recs\n",
    "        recs = np.concatenate([recs, new_recs], axis=0)\n",
    "        \n",
    "        # Keep unique elements after concatenation\n",
    "        _, idx = np.unique(recs, return_index=True)\n",
    "        \n",
    "        # Keep order (first neighbour is the most similar - so prefer his suggestions)\n",
    "        recs = recs[np.sort(idx)]\n",
    "        \n",
    "        # If we have enough recommendations exit the loop\n",
    "        if len(recs) > m-1:\n",
    "            break\n",
    "    \n",
    "    recs = recs[:10]\n",
    "    #print(list(recs))\n",
    "    # Pull article titles using article ids\n",
    "    recommendations = list(recs)\n",
    "    \n",
    "\n",
    "    return recommendations # return your recommendations for this user_id    "
   ]
  },
  {
   "cell_type": "code",
   "execution_count": 46,
   "metadata": {},
   "outputs": [
    {
     "data": {
      "text/markdown": [
       "### Short Test of Collaborative Filtering Part 1 - Make 10 article recommendations for user with user_id=20"
      ],
      "text/plain": [
       "<IPython.core.display.Markdown object>"
      ]
     },
     "metadata": {},
     "output_type": "display_data"
    },
    {
     "data": {
      "text/plain": [
       "['learn tensorflow and deep learning together and now!',\n",
       " 'modeling energy usage in new york city',\n",
       " 'deep learning with tensorflow course by big data university',\n",
       " 'tidy up your jupyter notebooks with scripts',\n",
       " 'generalization in deep learning',\n",
       " 'what is machine learning?',\n",
       " 'a visual explanation of the back propagation algorithm for neural networks',\n",
       " 'tensorflow quick tips',\n",
       " 'data structures related to machine learning algorithms',\n",
       " 'building custom machine learning algorithms with apache systemml']"
      ]
     },
     "execution_count": 46,
     "metadata": {},
     "output_type": "execute_result"
    }
   ],
   "source": [
    "# Check Results\n",
    "printmd('### Short Test of Collaborative Filtering Part 1 - Make 10 article recommendations for user with user_id=20')\n",
    "get_article_names(user_user_recs(20, 10))"
   ]
  },
  {
   "cell_type": "code",
   "execution_count": 47,
   "metadata": {},
   "outputs": [
    {
     "name": "stdout",
     "output_type": "stream",
     "text": [
      "If this is all you see, you passed all of our tests!  Nice job!\n"
     ]
    }
   ],
   "source": [
    "# Test your functions here - No need to change this code - just run this cell\n",
    "assert set(get_article_names(['1024.0', '1176.0', '1305.0', '1314.0', '1422.0', '1427.0'])) == set(['using deep learning to reconstruct high-resolution audio', 'build a python app on the streaming analytics service', 'gosales transactions for naive bayes model', 'healthcare python streaming application demo', 'use r dataframes & ibm watson natural language understanding', 'use xgboost, scikit-learn & ibm watson machine learning apis']), \"Oops! Your the get_article_names function doesn't work quite how we expect.\"\n",
    "assert set(get_article_names(['1320.0', '232.0', '844.0'])) == set(['housing (2015): united states demographic measures','self-service data preparation with ibm data refinery','use the cloudant-spark connector in python notebook']), \"Oops! Your the get_article_names function doesn't work quite how we expect.\"\n",
    "assert set(get_user_articles(20)[0]) == set(['1320.0', '232.0', '844.0'])\n",
    "assert set(get_user_articles(20)[1]) == set(['housing (2015): united states demographic measures', 'self-service data preparation with ibm data refinery','use the cloudant-spark connector in python notebook'])\n",
    "assert set(get_user_articles(2)[0]) == set(['1024.0', '1176.0', '1305.0', '1314.0', '1422.0', '1427.0'])\n",
    "assert set(get_user_articles(2)[1]) == set(['using deep learning to reconstruct high-resolution audio', 'build a python app on the streaming analytics service', 'gosales transactions for naive bayes model', 'healthcare python streaming application demo', 'use r dataframes & ibm watson natural language understanding', 'use xgboost, scikit-learn & ibm watson machine learning apis'])\n",
    "print(\"If this is all you see, you passed all of our tests!  Nice job!\")"
   ]
  },
  {
   "cell_type": "markdown",
   "metadata": {},
   "source": [
    "`4.` Now we are going to improve the consistency of the **user_user_recs** function from above.  \n",
    "\n",
    "* Instead of arbitrarily choosing when we obtain users who are all the same closeness to a given user - choose the users that have the most total article interactions before choosing those with fewer article interactions.\n",
    "\n",
    "\n",
    "* Instead of arbitrarily choosing articles from the user where the number of recommended articles starts below m and ends exceeding m, choose articles with the articles with the most total interactions before choosing those with fewer total interactions. This ranking should be  what would be obtained from the **top_articles** function you wrote earlier."
   ]
  },
  {
   "cell_type": "code",
   "execution_count": 48,
   "metadata": {},
   "outputs": [],
   "source": [
    "find_similar_users(2, user_item=user_item, return_sim=True);"
   ]
  },
  {
   "cell_type": "code",
   "execution_count": 49,
   "metadata": {},
   "outputs": [],
   "source": [
    "num_interactions = df.groupby('user_id')['article_id'].count()\n",
    "num_interactions\n",
    "\n",
    "num_interactions_df = pd.DataFrame(list(num_interactions), columns=['num_interactions'], index= num_interactions.index)\n",
    "num_interactions_df;"
   ]
  },
  {
   "cell_type": "code",
   "execution_count": 50,
   "metadata": {},
   "outputs": [],
   "source": [
    "num_interactions_df;"
   ]
  },
  {
   "cell_type": "code",
   "execution_count": 51,
   "metadata": {},
   "outputs": [
    {
     "data": {
      "text/plain": [
       "6"
      ]
     },
     "execution_count": 51,
     "metadata": {},
     "output_type": "execute_result"
    }
   ],
   "source": [
    "num_interactions_df[num_interactions_df.index==2]['num_interactions'].values[0]\n"
   ]
  },
  {
   "cell_type": "code",
   "execution_count": 52,
   "metadata": {},
   "outputs": [],
   "source": [
    "neighbors_df = find_similar_users(2, user_item=user_item, return_sim=True)\n",
    "neighbors_df['num_interactions'] = neighbors_df['neighbour_id'].apply(lambda x: num_interactions_df[num_interactions_df.index==x]['num_interactions'].values[0])\n",
    "neighbors_df = neighbors_df.sort_values(by=['similarity', 'num_interactions'], ascending=False)\n",
    "neighbors_df = neighbors_df[1:]\n",
    "neighbors_df.head(20);"
   ]
  },
  {
   "cell_type": "markdown",
   "metadata": {},
   "source": [
    "### Collaborative Filtering: Make Recommendations - Optimized approach\n",
    "Generate a sorted DataFrame ***neighbors_df*** to relate a user based on his user_id with similar neighbours. Similarity sorting is done via:\n",
    "- Sort the neighbors_df by the similarity and then by number of interactions.\n",
    "- Cols in the dataframe are_\n",
    "    - ***neighbor_ids***\n",
    "    - corresponding ***similarity*** of this neighbour with the user and \n",
    "    - ***num_interactions*** - the number of neighbour-article-interactions"
   ]
  },
  {
   "cell_type": "code",
   "execution_count": 53,
   "metadata": {},
   "outputs": [],
   "source": [
    "def get_top_sorted_users(user_id, df=df, user_item=user_item):\n",
    "    ''' Generate a DataFrame for the actual user with his neighbor_ids, corresponding similarities \n",
    "        and the number of neighbour-article-interactions \n",
    "    \n",
    "        INPUTS:\n",
    "        ------------\n",
    "            user_id - (int)\n",
    "            df - (pandas dataframe) df as defined at the top of the notebook \n",
    "            user_item - (pandas dataframe) matrix of users by articles: \n",
    "                    1's when a user has interacted with an article, 0 otherwise\n",
    "\n",
    "\n",
    "        OUTPUTS:\n",
    "        ------------\n",
    "            neighbors_df - (pandas dataframe) a dataframe with:\n",
    "                            neighbor_id - is a neighbor user_id\n",
    "                            similarity - measure of the similarity of each user to the provided user_id\n",
    "                            num_interactions - the number of articles viewed by the user - if a u\n",
    "\n",
    "            Other Details - sort the neighbors_df by the similarity and then by number of interactions where \n",
    "                            highest of each is higher in the dataframe\n",
    "     \n",
    "    '''\n",
    "    # Construct the neighbours dataframe by using find_similar_users and \n",
    "    # set return_sim to True --> to get back a 'similar neighbour dataframe' \n",
    "    neighbors_df = find_similar_users(user_id, user_item=user_item, return_sim=True)\n",
    "    \n",
    "    # Calculate the number of each neighbour by using a lambda function approach\n",
    "    neighbors_df['num_interactions'] = neighbors_df['neighbour_id'].apply(lambda x: num_interactions_df[num_interactions_df.index==x]['num_interactions'].values[0])\n",
    "    \n",
    "    # Sort this dataframe first by the col 'similarity' and second by the col 'num_interactions'\n",
    "    neighbors_df = neighbors_df.sort_values(by=['similarity', 'num_interactions'], ascending=False)\n",
    "    \n",
    "    # Remove the actual user with user_id from that dataframe\n",
    "    neighbors_df = neighbors_df[neighbors_df['neighbour_id'] != user_id]\n",
    "    return neighbors_df # Return the dataframe specified in the doc_string\n",
    "\n",
    "\n",
    "def user_user_recs_part2(user_id, m=10, top_most=True):\n",
    "    '''\n",
    "        INPUTS:\n",
    "        ------------\n",
    "            user_id - (int) a user id\n",
    "            m - (int) the number of recommendations you want for the user\n",
    "            top_most - (bool) if True --> keep for the (numpy array) new_recs \n",
    "                        only the intersection with the top_articles numpy array\n",
    "\n",
    "        OUTPUTS:\n",
    "        ------------\n",
    "            recs - (list) a list of recommendations for the user by article id\n",
    "            rec_names - (list) a list of recommendations for the user by article title\n",
    "\n",
    "            Description:\n",
    "            Loops through the users based on closeness to the input user_id\n",
    "            For each user - finds articles the user hasn't seen before and provides them as recs\n",
    "            Does this until m recommendations are found\n",
    "\n",
    "            Notes:\n",
    "            * Choose the users that have the most total article interactions \n",
    "            before choosing those with fewer article interactions.\n",
    "\n",
    "            * Choose articles with the articles with the most total interactions \n",
    "            before choosing those with fewer total interactions. \n",
    "   \n",
    "    '''\n",
    "    \n",
    "    # articles_seen by user (we don't want to recommend these)\n",
    "    articles_seen_ids, articles_seen_names = get_user_articles(user_id)\n",
    "    \n",
    "    # Get the neighbours stored in the neighbors_df dataframe\n",
    "    neighbors_df = get_top_sorted_users(user_id)\n",
    "    \n",
    "    # Get the neighbours as list of ids\n",
    "    closest_neighbors = neighbors_df['neighbour_id'].tolist()\n",
    "    \n",
    "    # Get the top 100 articles as a list of ids\n",
    "    top_articles = get_top_article_ids(100)\n",
    "    \n",
    "    #print('top_articles')\n",
    "    #print(top_articles)\n",
    "    \n",
    "    # Keep the recommended articles here\n",
    "    recs = np.array([])\n",
    "    \n",
    "    # Go through the neighbors and identify articles they like the user hasn't seen\n",
    "    for neighbor in closest_neighbors:\n",
    "        \n",
    "        # get article ids and names as lists (of neighbours)\n",
    "        neighbs_likes_ids, neighbs_likes_names  = get_user_articles(neighbor)\n",
    "        \n",
    "        # Obtain recommendations for the actual neighbor\n",
    "        new_recs = np.setdiff1d(neighbs_likes_ids, articles_seen_ids, assume_unique=True)\n",
    "        \n",
    "        if top_most == True:\n",
    "            # keep only articles of this neighbour which are in th top 100 article list\n",
    "            new_recs = np.intersect1d(new_recs, top_articles)\n",
    "        \n",
    "        # Update recs with new recs\n",
    "        recs = np.concatenate([recs, new_recs], axis=0)\n",
    "        \n",
    "        # Keep unique elements after concatenation\n",
    "        _, idx = np.unique(recs, return_index=True)\n",
    "        \n",
    "        # Keep order (first neighbour is the most similar - so prefer his suggestions)\n",
    "        recs = recs[np.sort(idx)]\n",
    "        \n",
    "        # If we have enough recommendations exit the loop\n",
    "        if len(recs) > m-1:\n",
    "            break\n",
    "    \n",
    "    # Pull article titles using article ids, keep only m ones\n",
    "    rec_ids= list(recs)[:m]\n",
    "    \n",
    "    # Transform those ids to article names\n",
    "    rec_names = get_article_names(rec_ids)\n",
    "\n",
    "    return rec_ids, rec_names  # return your recommendations for this user_id    \n"
   ]
  },
  {
   "cell_type": "code",
   "execution_count": 54,
   "metadata": {},
   "outputs": [
    {
     "data": {
      "text/markdown": [
       "### Short check of first neighbors_df for the user with user_id = 1"
      ],
      "text/plain": [
       "<IPython.core.display.Markdown object>"
      ]
     },
     "metadata": {},
     "output_type": "display_data"
    },
    {
     "data": {
      "text/html": [
       "<div>\n",
       "<style scoped>\n",
       "    .dataframe tbody tr th:only-of-type {\n",
       "        vertical-align: middle;\n",
       "    }\n",
       "\n",
       "    .dataframe tbody tr th {\n",
       "        vertical-align: top;\n",
       "    }\n",
       "\n",
       "    .dataframe thead th {\n",
       "        text-align: right;\n",
       "    }\n",
       "</style>\n",
       "<table border=\"1\" class=\"dataframe\">\n",
       "  <thead>\n",
       "    <tr style=\"text-align: right;\">\n",
       "      <th></th>\n",
       "      <th>neighbour_id</th>\n",
       "      <th>similarity</th>\n",
       "      <th>num_interactions</th>\n",
       "    </tr>\n",
       "  </thead>\n",
       "  <tbody>\n",
       "    <tr>\n",
       "      <th>1</th>\n",
       "      <td>3933</td>\n",
       "      <td>35.0</td>\n",
       "      <td>45</td>\n",
       "    </tr>\n",
       "    <tr>\n",
       "      <th>2</th>\n",
       "      <td>23</td>\n",
       "      <td>17.0</td>\n",
       "      <td>364</td>\n",
       "    </tr>\n",
       "    <tr>\n",
       "      <th>3</th>\n",
       "      <td>3782</td>\n",
       "      <td>17.0</td>\n",
       "      <td>363</td>\n",
       "    </tr>\n",
       "    <tr>\n",
       "      <th>4</th>\n",
       "      <td>203</td>\n",
       "      <td>15.0</td>\n",
       "      <td>160</td>\n",
       "    </tr>\n",
       "    <tr>\n",
       "      <th>5</th>\n",
       "      <td>4459</td>\n",
       "      <td>15.0</td>\n",
       "      <td>158</td>\n",
       "    </tr>\n",
       "    <tr>\n",
       "      <th>6</th>\n",
       "      <td>131</td>\n",
       "      <td>14.0</td>\n",
       "      <td>145</td>\n",
       "    </tr>\n",
       "    <tr>\n",
       "      <th>7</th>\n",
       "      <td>3870</td>\n",
       "      <td>14.0</td>\n",
       "      <td>144</td>\n",
       "    </tr>\n",
       "    <tr>\n",
       "      <th>8</th>\n",
       "      <td>46</td>\n",
       "      <td>13.0</td>\n",
       "      <td>63</td>\n",
       "    </tr>\n",
       "    <tr>\n",
       "      <th>9</th>\n",
       "      <td>4201</td>\n",
       "      <td>13.0</td>\n",
       "      <td>61</td>\n",
       "    </tr>\n",
       "    <tr>\n",
       "      <th>10</th>\n",
       "      <td>49</td>\n",
       "      <td>12.0</td>\n",
       "      <td>147</td>\n",
       "    </tr>\n",
       "  </tbody>\n",
       "</table>\n",
       "</div>"
      ],
      "text/plain": [
       "    neighbour_id  similarity  num_interactions\n",
       "1           3933        35.0                45\n",
       "2             23        17.0               364\n",
       "3           3782        17.0               363\n",
       "4            203        15.0               160\n",
       "5           4459        15.0               158\n",
       "6            131        14.0               145\n",
       "7           3870        14.0               144\n",
       "8             46        13.0                63\n",
       "9           4201        13.0                61\n",
       "10            49        12.0               147"
      ]
     },
     "execution_count": 54,
     "metadata": {},
     "output_type": "execute_result"
    }
   ],
   "source": [
    "user_id = 1\n",
    "printmd('### Short check of first neighbors_df for the user with user_id = ' + str(user_id))\n",
    "get_top_sorted_users(user_id).head(10)"
   ]
  },
  {
   "cell_type": "code",
   "execution_count": 55,
   "metadata": {},
   "outputs": [],
   "source": [
    "# print(tabulate(get_top_sorted_users(user_id).head(10), tablefmt=\"pipe\", headers=\"keys\"))"
   ]
  },
  {
   "cell_type": "code",
   "execution_count": 56,
   "metadata": {},
   "outputs": [
    {
     "data": {
      "text/markdown": [
       "### Short Test of Collaborative Filtering Part 2 - Make 10 article recommendations for user with user_id=20"
      ],
      "text/plain": [
       "<IPython.core.display.Markdown object>"
      ]
     },
     "metadata": {},
     "output_type": "display_data"
    },
    {
     "name": "stdout",
     "output_type": "stream",
     "text": [
      "The top 10 recommendations for user 20 are the following article ids:\n",
      "['109.0', '1160.0', '1162.0', '1163.0', '1166.0', '1170.0', '1172.0', '1176.0', '12.0', '125.0']\n",
      "\n",
      "The top 10 recommendations for user 20 are the following article names:\n",
      "['analyze accident reports on amazon emr spark', 'analyze open data sets with spark & pixiedust', 'apache spark lab, part 3: machine learning', 'apache spark lab, part 1: basic concepts', 'build a python app on the streaming analytics service', 'statistics for hackers', 'analyzing data by using the sparkling.data library features', 'tensorflow quick tips', 'timeseries data analysis of iot events by using jupyter notebook', 'analyze energy consumption in buildings']\n"
     ]
    }
   ],
   "source": [
    "# Quick spot check - don't change this code - just use it to test your functions\n",
    "printmd('### Short Test of Collaborative Filtering Part 2 - Make 10 article recommendations for user with user_id=20')\n",
    "rec_ids, rec_names = user_user_recs_part2(20, 10)\n",
    "print(\"The top 10 recommendations for user 20 are the following article ids:\")\n",
    "print(rec_ids)\n",
    "print()\n",
    "print(\"The top 10 recommendations for user 20 are the following article names:\")\n",
    "print(rec_names)"
   ]
  },
  {
   "cell_type": "code",
   "execution_count": 57,
   "metadata": {},
   "outputs": [
    {
     "data": {
      "text/markdown": [
       "#### user_id = 100"
      ],
      "text/plain": [
       "<IPython.core.display.Markdown object>"
      ]
     },
     "metadata": {},
     "output_type": "display_data"
    },
    {
     "data": {
      "text/markdown": [
       "### Compare Collaborative Recommendation System 1 with optimized System 2 for user_id = 100"
      ],
      "text/plain": [
       "<IPython.core.display.Markdown object>"
      ]
     },
     "metadata": {},
     "output_type": "display_data"
    },
    {
     "data": {
      "text/html": [
       "<div>\n",
       "<style scoped>\n",
       "    .dataframe tbody tr th:only-of-type {\n",
       "        vertical-align: middle;\n",
       "    }\n",
       "\n",
       "    .dataframe tbody tr th {\n",
       "        vertical-align: top;\n",
       "    }\n",
       "\n",
       "    .dataframe thead th {\n",
       "        text-align: right;\n",
       "    }\n",
       "</style>\n",
       "<table border=\"1\" class=\"dataframe\">\n",
       "  <thead>\n",
       "    <tr style=\"text-align: right;\">\n",
       "      <th></th>\n",
       "      <th>Collaborative Recommendation Part 1</th>\n",
       "      <th>Collaborative Recommendation Part 2</th>\n",
       "    </tr>\n",
       "  </thead>\n",
       "  <tbody>\n",
       "    <tr>\n",
       "      <th>0</th>\n",
       "      <td>learn tensorflow and deep learning together an...</td>\n",
       "      <td>breast cancer wisconsin (diagnostic) data set</td>\n",
       "    </tr>\n",
       "    <tr>\n",
       "      <th>1</th>\n",
       "      <td>jupyter notebook tutorial</td>\n",
       "      <td>analyze accident reports on amazon emr spark</td>\n",
       "    </tr>\n",
       "    <tr>\n",
       "      <th>2</th>\n",
       "      <td>how to scale your analytics using r</td>\n",
       "      <td>categorize urban density</td>\n",
       "    </tr>\n",
       "    <tr>\n",
       "      <th>3</th>\n",
       "      <td>practical tutorial on random forest and parame...</td>\n",
       "      <td>analyze open data sets with spark &amp; pixiedust</td>\n",
       "    </tr>\n",
       "    <tr>\n",
       "      <th>4</th>\n",
       "      <td>this week in data science (february 7, 2017)</td>\n",
       "      <td>access db2 warehouse on cloud and db2 with python</td>\n",
       "    </tr>\n",
       "    <tr>\n",
       "      <th>5</th>\n",
       "      <td>data science bowl 2017</td>\n",
       "      <td>practical tutorial on random forest and parame...</td>\n",
       "    </tr>\n",
       "    <tr>\n",
       "      <th>6</th>\n",
       "      <td>a dynamic duo – inside machine learning – medium</td>\n",
       "      <td>data tidying in data science experience</td>\n",
       "    </tr>\n",
       "    <tr>\n",
       "      <th>7</th>\n",
       "      <td>apache spark™ 2.0: extend structured streaming...</td>\n",
       "      <td>a dynamic duo – inside machine learning – medium</td>\n",
       "    </tr>\n",
       "    <tr>\n",
       "      <th>8</th>\n",
       "      <td>timeseries data analysis of iot events by usin...</td>\n",
       "      <td>analyzing data by using the sparkling.data lib...</td>\n",
       "    </tr>\n",
       "    <tr>\n",
       "      <th>9</th>\n",
       "      <td>python machine learning: scikit-learn tutorial</td>\n",
       "      <td>timeseries data analysis of iot events by usin...</td>\n",
       "    </tr>\n",
       "  </tbody>\n",
       "</table>\n",
       "</div>"
      ],
      "text/plain": [
       "                 Collaborative Recommendation Part 1  \\\n",
       "0  learn tensorflow and deep learning together an...   \n",
       "1                          jupyter notebook tutorial   \n",
       "2                how to scale your analytics using r   \n",
       "3  practical tutorial on random forest and parame...   \n",
       "4       this week in data science (february 7, 2017)   \n",
       "5                             data science bowl 2017   \n",
       "6   a dynamic duo – inside machine learning – medium   \n",
       "7  apache spark™ 2.0: extend structured streaming...   \n",
       "8  timeseries data analysis of iot events by usin...   \n",
       "9     python machine learning: scikit-learn tutorial   \n",
       "\n",
       "                 Collaborative Recommendation Part 2  \n",
       "0      breast cancer wisconsin (diagnostic) data set  \n",
       "1       analyze accident reports on amazon emr spark  \n",
       "2                           categorize urban density  \n",
       "3      analyze open data sets with spark & pixiedust  \n",
       "4  access db2 warehouse on cloud and db2 with python  \n",
       "5  practical tutorial on random forest and parame...  \n",
       "6            data tidying in data science experience  \n",
       "7   a dynamic duo – inside machine learning – medium  \n",
       "8  analyzing data by using the sparkling.data lib...  \n",
       "9  timeseries data analysis of iot events by usin...  "
      ]
     },
     "metadata": {},
     "output_type": "display_data"
    },
    {
     "data": {
      "text/markdown": [
       "### Which of the top most recommendations are common in both colab. recommendation approaches?"
      ],
      "text/plain": [
       "<IPython.core.display.Markdown object>"
      ]
     },
     "metadata": {},
     "output_type": "display_data"
    },
    {
     "data": {
      "text/markdown": [
       "#### Common articles:"
      ],
      "text/plain": [
       "<IPython.core.display.Markdown object>"
      ]
     },
     "metadata": {},
     "output_type": "display_data"
    },
    {
     "name": "stdout",
     "output_type": "stream",
     "text": [
      "a dynamic duo – inside machine learning – medium\n",
      "practical tutorial on random forest and parameter tuning in r\n",
      "timeseries data analysis of iot events by using jupyter notebook\n"
     ]
    }
   ],
   "source": [
    "user_id = 100\n",
    "printmd('#### user_id = ' + str(user_id))\n",
    "printmd('### Compare Collaborative Recommendation System 1 with optimized System 2 for user_id = ' + str(user_id))\n",
    "df_compare_recs = pd.DataFrame({'Collaborative Recommendation Part 1': list(get_article_names(user_user_recs(user_id, 10))), \n",
    "              'Collaborative Recommendation Part 2': list(user_user_recs_part2(user_id, 10)[1])\n",
    "             })\n",
    "\n",
    "display(df_compare_recs)\n",
    "\n",
    "printmd('### Which of the top most recommendations are common in both colab. recommendation approaches?')\n",
    "common = list(np.intersect1d(df_compare_recs['Collaborative Recommendation Part 1'], df_compare_recs['Collaborative Recommendation Part 2']))  \n",
    "\n",
    "printmd('#### Common articles:')\n",
    "print('\\n'.join(common))\n",
    "    "
   ]
  },
  {
   "cell_type": "markdown",
   "metadata": {},
   "source": [
    "`5.` Use your functions from above to correctly fill in the solutions to the dictionary below.  Then test your dictionary against the solution.  Provide the code you need to answer each following the comments below."
   ]
  },
  {
   "cell_type": "code",
   "execution_count": 58,
   "metadata": {},
   "outputs": [
    {
     "name": "stdout",
     "output_type": "stream",
     "text": [
      "The user that is most similar to user 1:  3933\n",
      "The 10th most similar to user 131:  242\n"
     ]
    }
   ],
   "source": [
    "def get_nth_closest_neighbour(user_id, n):\n",
    "    \"\"\" Find the nth most similar user to user with user_id\n",
    "        \n",
    "        INPUTS:\n",
    "        ------------\n",
    "            user_id - (int) the id number of the actual user for investigation  \n",
    "            n - (int) the nth most similar neighbour\n",
    "            \n",
    "        OUTPUTS:\n",
    "        ------------\n",
    "            user_nth_most_sim - (int) the neighbour id of the nth most similar user\n",
    "    \"\"\"\n",
    "    neighbors_df = get_top_sorted_users(user_id)\n",
    "    user_nth_most_sim = int(neighbors_df.iloc[n-1]['neighbour_id'])\n",
    "    return user_nth_most_sim\n",
    "\n",
    "print('The user that is most similar to user 1: ', get_nth_closest_neighbour(1, 1))\n",
    "print('The 10th most similar to user 131: ', get_nth_closest_neighbour(131, 10))"
   ]
  },
  {
   "cell_type": "code",
   "execution_count": 59,
   "metadata": {},
   "outputs": [],
   "source": [
    "### Tests with a dictionary of results\n",
    "user1_most_sim = get_nth_closest_neighbour(1, 1) # Find the user that is most similar to user 1 \n",
    "user131_10th_sim = get_nth_closest_neighbour(131, 10) # Find the 10th most similar user to user 131"
   ]
  },
  {
   "cell_type": "code",
   "execution_count": 60,
   "metadata": {},
   "outputs": [
    {
     "name": "stdout",
     "output_type": "stream",
     "text": [
      "This all looks good!  Nice job!\n"
     ]
    }
   ],
   "source": [
    "## Dictionary Test Here\n",
    "sol_5_dict = {\n",
    "    'The user that is most similar to user 1.': user1_most_sim, \n",
    "    'The user that is the 10th most similar to user 131': user131_10th_sim,\n",
    "}\n",
    "\n",
    "t.sol_5_test(sol_5_dict)"
   ]
  },
  {
   "cell_type": "markdown",
   "metadata": {},
   "source": [
    "`6.` If we were given a new user, which of the above functions would you be able to use to make recommendations?  Explain.  Can you think of a better way we might make recommendations?  Use the cell below to explain a better method for new users."
   ]
  },
  {
   "cell_type": "markdown",
   "metadata": {},
   "source": [
    "**Provide your response here.**\n",
    "\n",
    "For a new user we do not have any preferences in the beginning. Due to this ***Cold Start problem*** we should provide the ***'top most seen'*** articles to this new user.\n",
    "In this case of new users I would use\n",
    "\n",
    "- ***Rank-based recommendation***: I would use the functions ***get_top_articles(n, df=df)*** (in combination with ***get_top_article_ids(n, df=df)***)\n",
    "\n",
    "\n",
    "\n",
    "In addition, we could use: \n",
    "- ***Knowledge Based recommendation***. We could provide a seach mask where the user could enter key words. With those key words we could search appropriate recommendations in the database \n",
    "\n",
    "- When the user enters the web page we could ***ask the user to select his interests*** from a list of interests\n",
    "\n",
    "- We could try to use ***cookies*** to expore the users preferences"
   ]
  },
  {
   "cell_type": "markdown",
   "metadata": {},
   "source": [
    "`7.` Using your existing functions, provide the top 10 recommended articles you would provide for the a new user below.  You can test your function against our thoughts to make sure we are all on the same page with how we might make a recommendation."
   ]
  },
  {
   "cell_type": "code",
   "execution_count": 61,
   "metadata": {},
   "outputs": [
    {
     "data": {
      "text/markdown": [
       "### The top 10 articles we should provide to new users (Cold Start Problem)"
      ],
      "text/plain": [
       "<IPython.core.display.Markdown object>"
      ]
     },
     "metadata": {},
     "output_type": "display_data"
    },
    {
     "name": "stdout",
     "output_type": "stream",
     "text": [
      "use deep learning for image classification\n",
      "insights from new york car accident reports\n",
      "visualize car data with brunel\n",
      "use xgboost, scikit-learn & ibm watson machine learning apis\n",
      "predicting churn with the spss random tree algorithm\n",
      "healthcare python streaming application demo\n",
      "finding optimal locations of new store using decision optimization\n",
      "apache spark lab, part 1: basic concepts\n",
      "analyze energy consumption in buildings\n",
      "gosales transactions for logistic regression model\n"
     ]
    }
   ],
   "source": [
    "new_user = '0.0'\n",
    "# What would your recommendations be for this new user '0.0'?  As a new user, they have no observed articles.\n",
    "# Provide a list of the top 10 article ids you would give to \n",
    "new_user_recs = get_top_article_ids(10, df=df) # Your recommendations here\n",
    "new_user_recs_names = get_top_articles(10, df=df)\n",
    "printmd('### The top 10 articles we should provide to new users (Cold Start Problem)')\n",
    "print('\\n'.join(new_user_recs_names))"
   ]
  },
  {
   "cell_type": "code",
   "execution_count": 62,
   "metadata": {},
   "outputs": [
    {
     "name": "stdout",
     "output_type": "stream",
     "text": [
      "That's right!  Nice job!\n"
     ]
    }
   ],
   "source": [
    "assert set(new_user_recs) == set(['1314.0','1429.0','1293.0','1427.0','1162.0','1364.0','1304.0','1170.0','1431.0','1330.0']), \"Oops!  It makes sense that in this case we would want to recommend the most popular articles, because we don't know anything about these users.\"\n",
    "\n",
    "print(\"That's right!  Nice job!\")"
   ]
  },
  {
   "cell_type": "markdown",
   "metadata": {},
   "source": [
    "### <a class=\"anchor\" id=\"Content-Recs\">Part IV: Content Based Recommendations (EXTRA - NOT REQUIRED)</a>\n",
    "\n",
    "Another method we might use to make recommendations is to perform a ranking of the highest ranked articles associated with some term.  You might consider content to be the **doc_body**, **doc_description**, or **doc_full_name**.  There isn't one way to create a content based recommendation, especially considering that each of these columns hold content related information.  \n",
    "\n",
    "`1.` Use the function body below to create a content based recommender.  Since there isn't one right answer for this recommendation tactic, no test functions are provided.  Feel free to change the function inputs if you decide you want to try a method that requires more input values.  The input values are currently set with one idea in mind that you may use to make content based recommendations.  One additional idea is that you might want to choose the most popular recommendations that meet your 'content criteria', but again, there is a lot of flexibility in how you might make these recommendations.\n",
    "\n",
    "### This part is NOT REQUIRED to pass this project.  However, you may choose to take this on as an extra way to show off your skills."
   ]
  },
  {
   "cell_type": "code",
   "execution_count": 63,
   "metadata": {},
   "outputs": [],
   "source": [
    "def make_content_recs():\n",
    "    '''\n",
    "    INPUT:\n",
    "    \n",
    "    OUTPUT:\n",
    "    \n",
    "    '''"
   ]
  },
  {
   "cell_type": "markdown",
   "metadata": {},
   "source": [
    "`2.` Now that you have put together your content-based recommendation system, use the cell below to write a summary explaining how your content based recommender works.  Do you see any possible improvements that could be made to your function?  Is there anything novel about your content based recommender?\n",
    "\n",
    "### This part is NOT REQUIRED to pass this project.  However, you may choose to take this on as an extra way to show off your skills."
   ]
  },
  {
   "cell_type": "markdown",
   "metadata": {},
   "source": [
    "**Write an explanation of your content based recommendation system here.**"
   ]
  },
  {
   "cell_type": "markdown",
   "metadata": {},
   "source": [
    "`3.` Use your content-recommendation system to make recommendations for the below scenarios based on the comments.  Again no tests are provided here, because there isn't one right answer that could be used to find these content based recommendations.\n",
    "\n",
    "### This part is NOT REQUIRED to pass this project.  However, you may choose to take this on as an extra way to show off your skills."
   ]
  },
  {
   "cell_type": "code",
   "execution_count": 64,
   "metadata": {},
   "outputs": [],
   "source": [
    "# make recommendations for a brand new user\n",
    "\n",
    "\n",
    "# make a recommendations for a user who only has interacted with article id '1427.0'\n",
    "\n"
   ]
  },
  {
   "cell_type": "markdown",
   "metadata": {},
   "source": [
    "### <a class=\"anchor\" id=\"Matrix-Fact\">Part V: Matrix Factorization</a>\n",
    "\n",
    "In this part of the notebook, you will build use matrix factorization to make article recommendations to the users on the IBM Watson Studio platform.\n",
    "\n",
    "`1.` You should have already created a **user_item** matrix above in **question 1** of **Part III** above.  This first question here will just require that you run the cells to get things set up for the rest of **Part V** of the notebook. "
   ]
  },
  {
   "cell_type": "code",
   "execution_count": 65,
   "metadata": {},
   "outputs": [],
   "source": [
    "# Load the matrix here\n",
    "user_item_matrix = pd.read_pickle('user_item_matrix.p')"
   ]
  },
  {
   "cell_type": "code",
   "execution_count": 66,
   "metadata": {},
   "outputs": [
    {
     "data": {
      "text/markdown": [
       "### 10x10 shortcut of the user-item matrix"
      ],
      "text/plain": [
       "<IPython.core.display.Markdown object>"
      ]
     },
     "metadata": {},
     "output_type": "display_data"
    },
    {
     "data": {
      "text/html": [
       "<div>\n",
       "<style scoped>\n",
       "    .dataframe tbody tr th:only-of-type {\n",
       "        vertical-align: middle;\n",
       "    }\n",
       "\n",
       "    .dataframe tbody tr th {\n",
       "        vertical-align: top;\n",
       "    }\n",
       "\n",
       "    .dataframe thead th {\n",
       "        text-align: right;\n",
       "    }\n",
       "</style>\n",
       "<table border=\"1\" class=\"dataframe\">\n",
       "  <thead>\n",
       "    <tr style=\"text-align: right;\">\n",
       "      <th>article_id</th>\n",
       "      <th>0.0</th>\n",
       "      <th>100.0</th>\n",
       "      <th>1000.0</th>\n",
       "      <th>1004.0</th>\n",
       "      <th>1006.0</th>\n",
       "      <th>1008.0</th>\n",
       "      <th>101.0</th>\n",
       "      <th>1014.0</th>\n",
       "      <th>1015.0</th>\n",
       "      <th>1016.0</th>\n",
       "    </tr>\n",
       "    <tr>\n",
       "      <th>user_id</th>\n",
       "      <th></th>\n",
       "      <th></th>\n",
       "      <th></th>\n",
       "      <th></th>\n",
       "      <th></th>\n",
       "      <th></th>\n",
       "      <th></th>\n",
       "      <th></th>\n",
       "      <th></th>\n",
       "      <th></th>\n",
       "    </tr>\n",
       "  </thead>\n",
       "  <tbody>\n",
       "    <tr>\n",
       "      <th>1</th>\n",
       "      <td>0.0</td>\n",
       "      <td>0.0</td>\n",
       "      <td>0.0</td>\n",
       "      <td>0.0</td>\n",
       "      <td>0.0</td>\n",
       "      <td>0.0</td>\n",
       "      <td>0.0</td>\n",
       "      <td>0.0</td>\n",
       "      <td>0.0</td>\n",
       "      <td>0.0</td>\n",
       "    </tr>\n",
       "    <tr>\n",
       "      <th>2</th>\n",
       "      <td>0.0</td>\n",
       "      <td>0.0</td>\n",
       "      <td>0.0</td>\n",
       "      <td>0.0</td>\n",
       "      <td>0.0</td>\n",
       "      <td>0.0</td>\n",
       "      <td>0.0</td>\n",
       "      <td>0.0</td>\n",
       "      <td>0.0</td>\n",
       "      <td>0.0</td>\n",
       "    </tr>\n",
       "    <tr>\n",
       "      <th>3</th>\n",
       "      <td>0.0</td>\n",
       "      <td>0.0</td>\n",
       "      <td>0.0</td>\n",
       "      <td>0.0</td>\n",
       "      <td>0.0</td>\n",
       "      <td>0.0</td>\n",
       "      <td>0.0</td>\n",
       "      <td>0.0</td>\n",
       "      <td>0.0</td>\n",
       "      <td>0.0</td>\n",
       "    </tr>\n",
       "    <tr>\n",
       "      <th>4</th>\n",
       "      <td>0.0</td>\n",
       "      <td>0.0</td>\n",
       "      <td>0.0</td>\n",
       "      <td>0.0</td>\n",
       "      <td>0.0</td>\n",
       "      <td>0.0</td>\n",
       "      <td>0.0</td>\n",
       "      <td>0.0</td>\n",
       "      <td>0.0</td>\n",
       "      <td>0.0</td>\n",
       "    </tr>\n",
       "    <tr>\n",
       "      <th>5</th>\n",
       "      <td>0.0</td>\n",
       "      <td>0.0</td>\n",
       "      <td>0.0</td>\n",
       "      <td>0.0</td>\n",
       "      <td>0.0</td>\n",
       "      <td>0.0</td>\n",
       "      <td>0.0</td>\n",
       "      <td>0.0</td>\n",
       "      <td>0.0</td>\n",
       "      <td>0.0</td>\n",
       "    </tr>\n",
       "    <tr>\n",
       "      <th>6</th>\n",
       "      <td>0.0</td>\n",
       "      <td>0.0</td>\n",
       "      <td>0.0</td>\n",
       "      <td>0.0</td>\n",
       "      <td>0.0</td>\n",
       "      <td>0.0</td>\n",
       "      <td>0.0</td>\n",
       "      <td>0.0</td>\n",
       "      <td>0.0</td>\n",
       "      <td>0.0</td>\n",
       "    </tr>\n",
       "    <tr>\n",
       "      <th>7</th>\n",
       "      <td>0.0</td>\n",
       "      <td>0.0</td>\n",
       "      <td>0.0</td>\n",
       "      <td>0.0</td>\n",
       "      <td>0.0</td>\n",
       "      <td>0.0</td>\n",
       "      <td>0.0</td>\n",
       "      <td>0.0</td>\n",
       "      <td>0.0</td>\n",
       "      <td>0.0</td>\n",
       "    </tr>\n",
       "    <tr>\n",
       "      <th>8</th>\n",
       "      <td>0.0</td>\n",
       "      <td>0.0</td>\n",
       "      <td>0.0</td>\n",
       "      <td>0.0</td>\n",
       "      <td>0.0</td>\n",
       "      <td>0.0</td>\n",
       "      <td>0.0</td>\n",
       "      <td>0.0</td>\n",
       "      <td>0.0</td>\n",
       "      <td>0.0</td>\n",
       "    </tr>\n",
       "    <tr>\n",
       "      <th>9</th>\n",
       "      <td>0.0</td>\n",
       "      <td>0.0</td>\n",
       "      <td>0.0</td>\n",
       "      <td>0.0</td>\n",
       "      <td>0.0</td>\n",
       "      <td>0.0</td>\n",
       "      <td>0.0</td>\n",
       "      <td>0.0</td>\n",
       "      <td>0.0</td>\n",
       "      <td>0.0</td>\n",
       "    </tr>\n",
       "    <tr>\n",
       "      <th>10</th>\n",
       "      <td>0.0</td>\n",
       "      <td>0.0</td>\n",
       "      <td>0.0</td>\n",
       "      <td>0.0</td>\n",
       "      <td>0.0</td>\n",
       "      <td>0.0</td>\n",
       "      <td>0.0</td>\n",
       "      <td>0.0</td>\n",
       "      <td>0.0</td>\n",
       "      <td>0.0</td>\n",
       "    </tr>\n",
       "  </tbody>\n",
       "</table>\n",
       "</div>"
      ],
      "text/plain": [
       "article_id  0.0  100.0  1000.0  1004.0  1006.0  1008.0  101.0  1014.0  1015.0  \\\n",
       "user_id                                                                         \n",
       "1           0.0    0.0     0.0     0.0     0.0     0.0    0.0     0.0     0.0   \n",
       "2           0.0    0.0     0.0     0.0     0.0     0.0    0.0     0.0     0.0   \n",
       "3           0.0    0.0     0.0     0.0     0.0     0.0    0.0     0.0     0.0   \n",
       "4           0.0    0.0     0.0     0.0     0.0     0.0    0.0     0.0     0.0   \n",
       "5           0.0    0.0     0.0     0.0     0.0     0.0    0.0     0.0     0.0   \n",
       "6           0.0    0.0     0.0     0.0     0.0     0.0    0.0     0.0     0.0   \n",
       "7           0.0    0.0     0.0     0.0     0.0     0.0    0.0     0.0     0.0   \n",
       "8           0.0    0.0     0.0     0.0     0.0     0.0    0.0     0.0     0.0   \n",
       "9           0.0    0.0     0.0     0.0     0.0     0.0    0.0     0.0     0.0   \n",
       "10          0.0    0.0     0.0     0.0     0.0     0.0    0.0     0.0     0.0   \n",
       "\n",
       "article_id  1016.0  \n",
       "user_id             \n",
       "1              0.0  \n",
       "2              0.0  \n",
       "3              0.0  \n",
       "4              0.0  \n",
       "5              0.0  \n",
       "6              0.0  \n",
       "7              0.0  \n",
       "8              0.0  \n",
       "9              0.0  \n",
       "10             0.0  "
      ]
     },
     "metadata": {},
     "output_type": "display_data"
    },
    {
     "data": {
      "text/markdown": [
       "#### Shape of user_item: (5149, 714)"
      ],
      "text/plain": [
       "<IPython.core.display.Markdown object>"
      ]
     },
     "metadata": {},
     "output_type": "display_data"
    },
    {
     "data": {
      "text/markdown": [
       "#### Example: The number of articles seen by user 1 = 36.0"
      ],
      "text/plain": [
       "<IPython.core.display.Markdown object>"
      ]
     },
     "metadata": {},
     "output_type": "display_data"
    }
   ],
   "source": [
    "printmd('### 10x10 shortcut of the user-item matrix')\n",
    "display(user_item_matrix.iloc[:10,:10])\n",
    "\n",
    "printmd('#### Shape of user_item: ' + str(user_item_matrix.shape))\n",
    "printmd('#### Example: The number of articles seen by user 1 = ' + str(user_item_matrix.sum(axis=1)[1]))"
   ]
  },
  {
   "cell_type": "markdown",
   "metadata": {},
   "source": [
    "`2.` In this situation, you can use Singular Value Decomposition from [numpy](https://docs.scipy.org/doc/numpy-1.14.0/reference/generated/numpy.linalg.svd.html) on the user-item matrix.  Use the cell to perform SVD, and explain why this is different than in the lesson."
   ]
  },
  {
   "cell_type": "code",
   "execution_count": 67,
   "metadata": {},
   "outputs": [
    {
     "data": {
      "text/plain": [
       "((714,), (5149, 5149), (714, 714))"
      ]
     },
     "execution_count": 67,
     "metadata": {},
     "output_type": "execute_result"
    }
   ],
   "source": [
    "# Perform SVD on the User-Item Matrix Here\n",
    "\n",
    "# use the built in to get the three matrices\n",
    "u, s, vt = np.linalg.svd(user_item_matrix)\n",
    "s.shape, u.shape, vt.shape"
   ]
  },
  {
   "cell_type": "markdown",
   "metadata": {},
   "source": [
    "**Provide your response here.**\n",
    "\n",
    "- We can use Traditional-SVD istead of FunkSVD as we do not have any NaN values.\n",
    "- We do not use (continuous or distinct number) ratings of articles. Instead we use 0s and 1s dummies. \n",
    "- no user-item-interaction --> 0 \n",
    "- user-item-interaction observed --> 1\n",
    "- In case a user has not yet read an article there will be a 0 and not a NaN in the corresponding cell of the user_item matrix.\n",
    "- However, we could still use FunkSVD with randomized 0s and 1s for the u and vt matrices in the beginning. Then we could get the correct (optimized) '0s' and '1s' during training."
   ]
  },
  {
   "cell_type": "markdown",
   "metadata": {},
   "source": [
    "`3.` Now for the tricky part, how do we choose the number of latent features to use?  Running the below cell, you can see that as the number of latent features increases, we obtain a lower error rate on making predictions for the 1 and 0 values in the user-item matrix.  Run the cell below to get an idea of how the accuracy improves as we increase the number of latent features."
   ]
  },
  {
   "cell_type": "code",
   "execution_count": 68,
   "metadata": {},
   "outputs": [
    {
     "data": {
      "image/png": "[encoded data removed]",
      "text/plain": [
       "<matplotlib.figure.Figure at 0x7f5a5ec4f828>"
      ]
     },
     "metadata": {
      "needs_background": "light"
     },
     "output_type": "display_data"
    }
   ],
   "source": [
    "num_latent_feats = np.arange(10,700+10,20)\n",
    "sum_errs = []\n",
    "\n",
    "for k in num_latent_feats:\n",
    "    # restructure with k latent features\n",
    "    s_new, u_new, vt_new = np.diag(s[:k]), u[:, :k], vt[:k, :]\n",
    "    \n",
    "    # take dot product\n",
    "    user_item_est = np.around(np.dot(np.dot(u_new, s_new), vt_new))\n",
    "    \n",
    "    # compute error for each prediction to actual value\n",
    "    diffs = np.subtract(user_item_matrix, user_item_est)\n",
    "    \n",
    "    # total errors and keep track of them\n",
    "    err = np.sum(np.sum(np.abs(diffs)))\n",
    "    sum_errs.append(err)\n",
    "    \n",
    "    \n",
    "plt.plot(num_latent_feats, 1 - np.array(sum_errs)/df.shape[0]);\n",
    "plt.xlabel('Number of Latent Features');\n",
    "plt.ylabel('Accuracy');\n",
    "plt.title('Accuracy vs. Number of Latent Features');"
   ]
  },
  {
   "cell_type": "markdown",
   "metadata": {},
   "source": [
    "`4.` From the above, we can't really be sure how many features to use, because simply having a better way to predict the 1's and 0's of the matrix doesn't exactly give us an indication of if we are able to make good recommendations.  Instead, we might split our dataset into a training and test set of data, as shown in the cell below.  \n",
    "\n",
    "Use the code from question 3 to understand the impact on accuracy of the training and test sets of data with different numbers of latent features. Using the split below: \n",
    "\n",
    "* How many users can we make predictions for in the test set?  \n",
    "* How many users are we not able to make predictions for because of the cold start problem?\n",
    "* How many articles can we make predictions for in the test set?  \n",
    "* How many articles are we not able to make predictions for because of the cold start problem?"
   ]
  },
  {
   "cell_type": "code",
   "execution_count": 69,
   "metadata": {},
   "outputs": [
    {
     "name": "stderr",
     "output_type": "stream",
     "text": [
      "/opt/conda/lib/python3.6/site-packages/ipykernel_launcher.py:16: SettingWithCopyWarning: \n",
      "A value is trying to be set on a copy of a slice from a DataFrame.\n",
      "Try using .loc[row_indexer,col_indexer] = value instead\n",
      "\n",
      "See the caveats in the documentation: http://pandas.pydata.org/pandas-docs/stable/indexing.html#indexing-view-versus-copy\n",
      "  app.launch_new_instance()\n"
     ]
    }
   ],
   "source": [
    "df_train = df.head(40000)\n",
    "df_test = df.tail(5993)\n",
    "\n",
    "def create_test_and_train_user_item(df_train, df_test):\n",
    "    '''\n",
    "        INPUTS:\n",
    "        -----------\n",
    "            df_train - training dataframe\n",
    "            df_test - test dataframe\n",
    "\n",
    "        OUTPUTS:\n",
    "        ------------\n",
    "            user_item_train - a user-item matrix of the training dataframe \n",
    "                              (unique users for each row and unique articles for each column)\n",
    "            user_item_test - a user-item matrix of the testing dataframe \n",
    "                            (unique users for each row and unique articles for each column)\n",
    "            test_idx - all of the test user ids\n",
    "            test_arts - all of the test article ids\n",
    "    \n",
    "    '''\n",
    "    # Get user_item_train from create_user_item_matrix(df)\n",
    "    user_item_train = create_user_item_matrix(df_train)\n",
    "    \n",
    "    # Get user_item_test from create_user_item_matrix(df)\n",
    "    user_item_test = create_user_item_matrix(df_test)\n",
    "    \n",
    "    # test rows (train user_ids) and colums (test articles) of user_item_test meatrix\n",
    "    test_idx = user_item_test.index \n",
    "    test_arts = user_item_test.columns \n",
    "    \n",
    "    # train rows (train user_ids) and colums (train articles) of user_item_train meatrix\n",
    "    train_idx = user_item_train.index \n",
    "    train_arts = user_item_train.columns \n",
    "    \n",
    "    # common rows and columns between train and test matrix\n",
    "    common_rows = train_idx.intersection(test_idx)\n",
    "    common_cols = train_arts.intersection(test_arts)\n",
    "    \n",
    "    \n",
    "    # user_item_test based on common rows and columns\n",
    "    user_item_test = user_item_test.loc[common_rows, common_cols]\n",
    "    \n",
    "    return user_item_train, user_item_test, test_idx, test_arts, common_rows, common_cols\n",
    "\n",
    "user_item_train, user_item_test, test_idx, test_arts, common_rows, common_cols = create_test_and_train_user_item(df_train, df_test)"
   ]
  },
  {
   "cell_type": "code",
   "execution_count": 70,
   "metadata": {},
   "outputs": [
    {
     "data": {
      "text/plain": [
       "(4487, 714)"
      ]
     },
     "execution_count": 70,
     "metadata": {},
     "output_type": "execute_result"
    }
   ],
   "source": [
    "# Shape of user_item_train\n",
    "user_item_train.shape"
   ]
  },
  {
   "cell_type": "code",
   "execution_count": 71,
   "metadata": {},
   "outputs": [
    {
     "data": {
      "text/plain": [
       "(20, 574)"
      ]
     },
     "execution_count": 71,
     "metadata": {},
     "output_type": "execute_result"
    }
   ],
   "source": [
    "# Shape of user_item_test\n",
    "user_item_test.shape"
   ]
  },
  {
   "cell_type": "code",
   "execution_count": 72,
   "metadata": {},
   "outputs": [
    {
     "data": {
      "text/plain": [
       "682"
      ]
     },
     "execution_count": 72,
     "metadata": {},
     "output_type": "execute_result"
    }
   ],
   "source": [
    "# Number of rows (user_ids) in user_item_test\n",
    "len(test_idx)"
   ]
  },
  {
   "cell_type": "code",
   "execution_count": 73,
   "metadata": {},
   "outputs": [
    {
     "data": {
      "text/plain": [
       "20"
      ]
     },
     "execution_count": 73,
     "metadata": {},
     "output_type": "execute_result"
    }
   ],
   "source": [
    "# Number of commmon indices in user_item_train and user_item_test\n",
    "number_of_pos_preds_user = user_item_train.index.isin(test_idx).sum()\n",
    "number_of_pos_preds_user"
   ]
  },
  {
   "cell_type": "code",
   "execution_count": 74,
   "metadata": {},
   "outputs": [
    {
     "data": {
      "text/plain": [
       "662"
      ]
     },
     "execution_count": 74,
     "metadata": {},
     "output_type": "execute_result"
    }
   ],
   "source": [
    "# Number of users we can can make predictions for in the test set\n",
    "number_of_non_preds_user = len(test_idx) - number_of_pos_preds_user\n",
    "number_of_non_preds_user"
   ]
  },
  {
   "cell_type": "code",
   "execution_count": 75,
   "metadata": {},
   "outputs": [
    {
     "data": {
      "text/plain": [
       "574"
      ]
     },
     "execution_count": 75,
     "metadata": {},
     "output_type": "execute_result"
    }
   ],
   "source": [
    "# How many articles can we make predictions for in the test set?\n",
    "number_of_pos_preds_articles = user_item_train.columns.isin(test_arts).sum()\n",
    "number_of_pos_preds_articles"
   ]
  },
  {
   "cell_type": "code",
   "execution_count": 76,
   "metadata": {},
   "outputs": [
    {
     "data": {
      "text/plain": [
       "0"
      ]
     },
     "execution_count": 76,
     "metadata": {},
     "output_type": "execute_result"
    }
   ],
   "source": [
    "number_of_no_preds_articles = len(test_arts) - number_of_pos_preds_articles\n",
    "number_of_no_preds_articles"
   ]
  },
  {
   "cell_type": "code",
   "execution_count": 77,
   "metadata": {},
   "outputs": [
    {
     "name": "stdout",
     "output_type": "stream",
     "text": [
      "Awesome job!  That's right!  All of the test movies are in the training data, but there are only 20 test users that were also in the training set.  All of the other users that are in the test set we have no data on.  Therefore, we cannot make predictions for these users using SVD.\n"
     ]
    }
   ],
   "source": [
    "# Replace the values in the dictionary below\n",
    "a = 662 \n",
    "b = 574 \n",
    "c = 20 \n",
    "d = 0 \n",
    "\n",
    "\n",
    "sol_4_dict = {\n",
    "    'How many users can we make predictions for in the test set?': c, \n",
    "    'How many users in the test set are we not able to make predictions for because of the cold start problem?': a, \n",
    "    'How many movies can we make predictions for in the test set?': b,\n",
    "    'How many movies in the test set are we not able to make predictions for because of the cold start problem?': d\n",
    "}\n",
    "\n",
    "t.sol_4_test(sol_4_dict)"
   ]
  },
  {
   "cell_type": "code",
   "execution_count": 78,
   "metadata": {},
   "outputs": [
    {
     "data": {
      "text/markdown": [
       "### Short summary for the train and test split:"
      ],
      "text/plain": [
       "<IPython.core.display.Markdown object>"
      ]
     },
     "metadata": {},
     "output_type": "display_data"
    },
    {
     "name": "stdout",
     "output_type": "stream",
     "text": [
      "shape of user_item_train:  (4487, 714)\n",
      "shape of user_item_test:  (20, 574)\n",
      "\n",
      "How many users can we make predictions for in the test set?  20\n",
      "How many users in the test set are we not able to make predictions for because of the cold start problem?  662\n",
      "How many articles can we make predictions for in the test set?  574\n",
      "How many movies in the test set are we not able to make predictions for because of the cold start problem?  0\n"
     ]
    }
   ],
   "source": [
    "printmd('### Short summary for the train and test split:')\n",
    "print('shape of user_item_train: ', user_item_train.shape)\n",
    "print('shape of user_item_test: ', user_item_test.shape)\n",
    "print()\n",
    "print('How many users can we make predictions for in the test set? ', number_of_pos_preds_user)\n",
    "print('How many users in the test set are we not able to make predictions for because of the cold start problem? ', number_of_non_preds_user)\n",
    "print('How many articles can we make predictions for in the test set? ', number_of_pos_preds_articles)\n",
    "print('How many movies in the test set are we not able to make predictions for because of the cold start problem? ', number_of_no_preds_articles)\n"
   ]
  },
  {
   "cell_type": "markdown",
   "metadata": {},
   "source": [
    "`5.` Now use the **user_item_train** dataset from above to find U, S, and V transpose using SVD. Then find the subset of rows in the **user_item_test** dataset that you can predict using this matrix decomposition with different numbers of latent features to see how many features makes sense to keep based on the accuracy on the test data. This will require combining what was done in questions `2` - `4`.\n",
    "\n",
    "Use the cells below to explore how well SVD works towards making predictions for recommendations on the test data.  "
   ]
  },
  {
   "cell_type": "code",
   "execution_count": 79,
   "metadata": {},
   "outputs": [
    {
     "data": {
      "text/plain": [
       "((714,), (4487, 4487), (714, 714))"
      ]
     },
     "execution_count": 79,
     "metadata": {},
     "output_type": "execute_result"
    }
   ],
   "source": [
    "# fit SVD on the user_item_train matrix\n",
    "u_train, s_train, vt_train = np.linalg.svd(user_item_train)# fit svd similar to above then use the cells below\n",
    "\n",
    "s_train.shape, u_train.shape, vt_train.shape"
   ]
  },
  {
   "cell_type": "code",
   "execution_count": 80,
   "metadata": {},
   "outputs": [],
   "source": [
    "# Use these cells to see how well you can use the training \n",
    "# decomposition to predict on test data"
   ]
  },
  {
   "cell_type": "code",
   "execution_count": 81,
   "metadata": {},
   "outputs": [
    {
     "data": {
      "text/plain": [
       "array([False, False, False, ..., False, False,  True], dtype=bool)"
      ]
     },
     "execution_count": 81,
     "metadata": {},
     "output_type": "execute_result"
    }
   ],
   "source": [
    "row_idxs = user_item_train.index.isin(test_idx)\n",
    "row_idxs"
   ]
  },
  {
   "cell_type": "code",
   "execution_count": 82,
   "metadata": {},
   "outputs": [
    {
     "data": {
      "text/plain": [
       "Int64Index([2917, 3024, 3093, 3193, 3527, 3532, 3684, 3740, 3777, 3801, 3968,\n",
       "            3989, 3990, 3998, 4002, 4204, 4231, 4274, 4293, 4487],\n",
       "           dtype='int64', name='user_id')"
      ]
     },
     "execution_count": 82,
     "metadata": {},
     "output_type": "execute_result"
    }
   ],
   "source": [
    "common_rows"
   ]
  },
  {
   "cell_type": "code",
   "execution_count": 145,
   "metadata": {},
   "outputs": [
    {
     "name": "stdout",
     "output_type": "stream",
     "text": [
      "Requirement already satisfied: scikit-learn==0.20 in /opt/conda/lib/python3.6/site-packages (0.20.0)\n",
      "Requirement already satisfied: scipy>=0.13.3 in /opt/conda/lib/python3.6/site-packages (from scikit-learn==0.20) (1.2.1)\n",
      "Requirement already satisfied: numpy>=1.8.2 in /opt/conda/lib/python3.6/site-packages (from scikit-learn==0.20) (1.12.1)\n"
     ]
    },
    {
     "name": "stderr",
     "output_type": "stream",
     "text": [
      "/opt/conda/lib/python3.6/site-packages/sklearn/metrics/classification.py:1145: UndefinedMetricWarning: Recall and F-score are ill-defined and being set to 0.0 in labels with no true samples.\n",
      "  'recall', 'true', average, warn_for)\n"
     ]
    },
    {
     "data": {
      "text/html": [
       "<div>\n",
       "<style scoped>\n",
       "    .dataframe tbody tr th:only-of-type {\n",
       "        vertical-align: middle;\n",
       "    }\n",
       "\n",
       "    .dataframe tbody tr th {\n",
       "        vertical-align: top;\n",
       "    }\n",
       "\n",
       "    .dataframe thead th {\n",
       "        text-align: right;\n",
       "    }\n",
       "</style>\n",
       "<table border=\"1\" class=\"dataframe\">\n",
       "  <thead>\n",
       "    <tr style=\"text-align: right;\">\n",
       "      <th></th>\n",
       "      <th>Train-f1-score</th>\n",
       "      <th>Train-precision</th>\n",
       "      <th>Train-recall</th>\n",
       "      <th>Train-accuracy</th>\n",
       "    </tr>\n",
       "  </thead>\n",
       "  <tbody>\n",
       "    <tr>\n",
       "      <th>1</th>\n",
       "      <td>0.986799</td>\n",
       "      <td>0.988153</td>\n",
       "      <td>0.990977</td>\n",
       "      <td>0.990977</td>\n",
       "    </tr>\n",
       "    <tr>\n",
       "      <th>11</th>\n",
       "      <td>0.988841</td>\n",
       "      <td>0.990970</td>\n",
       "      <td>0.991854</td>\n",
       "      <td>0.991854</td>\n",
       "    </tr>\n",
       "    <tr>\n",
       "      <th>21</th>\n",
       "      <td>0.990572</td>\n",
       "      <td>0.992434</td>\n",
       "      <td>0.992768</td>\n",
       "      <td>0.992768</td>\n",
       "    </tr>\n",
       "    <tr>\n",
       "      <th>31</th>\n",
       "      <td>0.991881</td>\n",
       "      <td>0.993419</td>\n",
       "      <td>0.993542</td>\n",
       "      <td>0.993542</td>\n",
       "    </tr>\n",
       "    <tr>\n",
       "      <th>41</th>\n",
       "      <td>0.992770</td>\n",
       "      <td>0.994083</td>\n",
       "      <td>0.994115</td>\n",
       "      <td>0.994115</td>\n",
       "    </tr>\n",
       "    <tr>\n",
       "      <th>51</th>\n",
       "      <td>0.993585</td>\n",
       "      <td>0.994646</td>\n",
       "      <td>0.994656</td>\n",
       "      <td>0.994656</td>\n",
       "    </tr>\n",
       "    <tr>\n",
       "      <th>61</th>\n",
       "      <td>0.994314</td>\n",
       "      <td>0.995168</td>\n",
       "      <td>0.995166</td>\n",
       "      <td>0.995166</td>\n",
       "    </tr>\n",
       "    <tr>\n",
       "      <th>71</th>\n",
       "      <td>0.994955</td>\n",
       "      <td>0.995641</td>\n",
       "      <td>0.995631</td>\n",
       "      <td>0.995631</td>\n",
       "    </tr>\n",
       "    <tr>\n",
       "      <th>81</th>\n",
       "      <td>0.995494</td>\n",
       "      <td>0.996048</td>\n",
       "      <td>0.996035</td>\n",
       "      <td>0.996035</td>\n",
       "    </tr>\n",
       "    <tr>\n",
       "      <th>91</th>\n",
       "      <td>0.995963</td>\n",
       "      <td>0.996412</td>\n",
       "      <td>0.996400</td>\n",
       "      <td>0.996400</td>\n",
       "    </tr>\n",
       "    <tr>\n",
       "      <th>101</th>\n",
       "      <td>0.996370</td>\n",
       "      <td>0.996734</td>\n",
       "      <td>0.996724</td>\n",
       "      <td>0.996724</td>\n",
       "    </tr>\n",
       "    <tr>\n",
       "      <th>111</th>\n",
       "      <td>0.996695</td>\n",
       "      <td>0.996997</td>\n",
       "      <td>0.996989</td>\n",
       "      <td>0.996989</td>\n",
       "    </tr>\n",
       "    <tr>\n",
       "      <th>121</th>\n",
       "      <td>0.997027</td>\n",
       "      <td>0.997273</td>\n",
       "      <td>0.997266</td>\n",
       "      <td>0.997266</td>\n",
       "    </tr>\n",
       "    <tr>\n",
       "      <th>131</th>\n",
       "      <td>0.997313</td>\n",
       "      <td>0.997514</td>\n",
       "      <td>0.997508</td>\n",
       "      <td>0.997508</td>\n",
       "    </tr>\n",
       "    <tr>\n",
       "      <th>141</th>\n",
       "      <td>0.997564</td>\n",
       "      <td>0.997730</td>\n",
       "      <td>0.997725</td>\n",
       "      <td>0.997725</td>\n",
       "    </tr>\n",
       "    <tr>\n",
       "      <th>151</th>\n",
       "      <td>0.997782</td>\n",
       "      <td>0.997920</td>\n",
       "      <td>0.997915</td>\n",
       "      <td>0.997915</td>\n",
       "    </tr>\n",
       "    <tr>\n",
       "      <th>161</th>\n",
       "      <td>0.997981</td>\n",
       "      <td>0.998095</td>\n",
       "      <td>0.998091</td>\n",
       "      <td>0.998091</td>\n",
       "    </tr>\n",
       "    <tr>\n",
       "      <th>171</th>\n",
       "      <td>0.998145</td>\n",
       "      <td>0.998241</td>\n",
       "      <td>0.998238</td>\n",
       "      <td>0.998238</td>\n",
       "    </tr>\n",
       "    <tr>\n",
       "      <th>181</th>\n",
       "      <td>0.998296</td>\n",
       "      <td>0.998377</td>\n",
       "      <td>0.998374</td>\n",
       "      <td>0.998374</td>\n",
       "    </tr>\n",
       "    <tr>\n",
       "      <th>191</th>\n",
       "      <td>0.998462</td>\n",
       "      <td>0.998529</td>\n",
       "      <td>0.998526</td>\n",
       "      <td>0.998526</td>\n",
       "    </tr>\n",
       "    <tr>\n",
       "      <th>201</th>\n",
       "      <td>0.998588</td>\n",
       "      <td>0.998644</td>\n",
       "      <td>0.998642</td>\n",
       "      <td>0.998642</td>\n",
       "    </tr>\n",
       "    <tr>\n",
       "      <th>211</th>\n",
       "      <td>0.998714</td>\n",
       "      <td>0.998761</td>\n",
       "      <td>0.998759</td>\n",
       "      <td>0.998759</td>\n",
       "    </tr>\n",
       "    <tr>\n",
       "      <th>221</th>\n",
       "      <td>0.998837</td>\n",
       "      <td>0.998875</td>\n",
       "      <td>0.998873</td>\n",
       "      <td>0.998873</td>\n",
       "    </tr>\n",
       "    <tr>\n",
       "      <th>231</th>\n",
       "      <td>0.998936</td>\n",
       "      <td>0.998968</td>\n",
       "      <td>0.998967</td>\n",
       "      <td>0.998967</td>\n",
       "    </tr>\n",
       "    <tr>\n",
       "      <th>241</th>\n",
       "      <td>0.999036</td>\n",
       "      <td>0.999062</td>\n",
       "      <td>0.999061</td>\n",
       "      <td>0.999061</td>\n",
       "    </tr>\n",
       "    <tr>\n",
       "      <th>251</th>\n",
       "      <td>0.999125</td>\n",
       "      <td>0.999146</td>\n",
       "      <td>0.999146</td>\n",
       "      <td>0.999146</td>\n",
       "    </tr>\n",
       "    <tr>\n",
       "      <th>261</th>\n",
       "      <td>0.999210</td>\n",
       "      <td>0.999227</td>\n",
       "      <td>0.999227</td>\n",
       "      <td>0.999227</td>\n",
       "    </tr>\n",
       "    <tr>\n",
       "      <th>271</th>\n",
       "      <td>0.999278</td>\n",
       "      <td>0.999293</td>\n",
       "      <td>0.999292</td>\n",
       "      <td>0.999292</td>\n",
       "    </tr>\n",
       "    <tr>\n",
       "      <th>281</th>\n",
       "      <td>0.999341</td>\n",
       "      <td>0.999353</td>\n",
       "      <td>0.999353</td>\n",
       "      <td>0.999353</td>\n",
       "    </tr>\n",
       "    <tr>\n",
       "      <th>291</th>\n",
       "      <td>0.999402</td>\n",
       "      <td>0.999412</td>\n",
       "      <td>0.999411</td>\n",
       "      <td>0.999411</td>\n",
       "    </tr>\n",
       "    <tr>\n",
       "      <th>...</th>\n",
       "      <td>...</td>\n",
       "      <td>...</td>\n",
       "      <td>...</td>\n",
       "      <td>...</td>\n",
       "    </tr>\n",
       "    <tr>\n",
       "      <th>401</th>\n",
       "      <td>0.999802</td>\n",
       "      <td>0.999803</td>\n",
       "      <td>0.999803</td>\n",
       "      <td>0.999803</td>\n",
       "    </tr>\n",
       "    <tr>\n",
       "      <th>411</th>\n",
       "      <td>0.999817</td>\n",
       "      <td>0.999818</td>\n",
       "      <td>0.999818</td>\n",
       "      <td>0.999818</td>\n",
       "    </tr>\n",
       "    <tr>\n",
       "      <th>421</th>\n",
       "      <td>0.999832</td>\n",
       "      <td>0.999833</td>\n",
       "      <td>0.999833</td>\n",
       "      <td>0.999833</td>\n",
       "    </tr>\n",
       "    <tr>\n",
       "      <th>431</th>\n",
       "      <td>0.999852</td>\n",
       "      <td>0.999852</td>\n",
       "      <td>0.999852</td>\n",
       "      <td>0.999852</td>\n",
       "    </tr>\n",
       "    <tr>\n",
       "      <th>441</th>\n",
       "      <td>0.999866</td>\n",
       "      <td>0.999866</td>\n",
       "      <td>0.999866</td>\n",
       "      <td>0.999866</td>\n",
       "    </tr>\n",
       "    <tr>\n",
       "      <th>451</th>\n",
       "      <td>0.999880</td>\n",
       "      <td>0.999880</td>\n",
       "      <td>0.999880</td>\n",
       "      <td>0.999880</td>\n",
       "    </tr>\n",
       "    <tr>\n",
       "      <th>461</th>\n",
       "      <td>0.999894</td>\n",
       "      <td>0.999894</td>\n",
       "      <td>0.999894</td>\n",
       "      <td>0.999894</td>\n",
       "    </tr>\n",
       "    <tr>\n",
       "      <th>471</th>\n",
       "      <td>0.999908</td>\n",
       "      <td>0.999909</td>\n",
       "      <td>0.999909</td>\n",
       "      <td>0.999909</td>\n",
       "    </tr>\n",
       "    <tr>\n",
       "      <th>481</th>\n",
       "      <td>0.999918</td>\n",
       "      <td>0.999919</td>\n",
       "      <td>0.999919</td>\n",
       "      <td>0.999919</td>\n",
       "    </tr>\n",
       "    <tr>\n",
       "      <th>491</th>\n",
       "      <td>0.999928</td>\n",
       "      <td>0.999928</td>\n",
       "      <td>0.999928</td>\n",
       "      <td>0.999928</td>\n",
       "    </tr>\n",
       "    <tr>\n",
       "      <th>501</th>\n",
       "      <td>0.999937</td>\n",
       "      <td>0.999937</td>\n",
       "      <td>0.999937</td>\n",
       "      <td>0.999937</td>\n",
       "    </tr>\n",
       "    <tr>\n",
       "      <th>511</th>\n",
       "      <td>0.999943</td>\n",
       "      <td>0.999944</td>\n",
       "      <td>0.999944</td>\n",
       "      <td>0.999944</td>\n",
       "    </tr>\n",
       "    <tr>\n",
       "      <th>521</th>\n",
       "      <td>0.999955</td>\n",
       "      <td>0.999955</td>\n",
       "      <td>0.999955</td>\n",
       "      <td>0.999955</td>\n",
       "    </tr>\n",
       "    <tr>\n",
       "      <th>531</th>\n",
       "      <td>0.999962</td>\n",
       "      <td>0.999962</td>\n",
       "      <td>0.999962</td>\n",
       "      <td>0.999962</td>\n",
       "    </tr>\n",
       "    <tr>\n",
       "      <th>541</th>\n",
       "      <td>0.999971</td>\n",
       "      <td>0.999971</td>\n",
       "      <td>0.999971</td>\n",
       "      <td>0.999971</td>\n",
       "    </tr>\n",
       "    <tr>\n",
       "      <th>551</th>\n",
       "      <td>0.999977</td>\n",
       "      <td>0.999977</td>\n",
       "      <td>0.999977</td>\n",
       "      <td>0.999977</td>\n",
       "    </tr>\n",
       "    <tr>\n",
       "      <th>561</th>\n",
       "      <td>0.999982</td>\n",
       "      <td>0.999982</td>\n",
       "      <td>0.999982</td>\n",
       "      <td>0.999982</td>\n",
       "    </tr>\n",
       "    <tr>\n",
       "      <th>571</th>\n",
       "      <td>0.999986</td>\n",
       "      <td>0.999986</td>\n",
       "      <td>0.999986</td>\n",
       "      <td>0.999986</td>\n",
       "    </tr>\n",
       "    <tr>\n",
       "      <th>581</th>\n",
       "      <td>0.999988</td>\n",
       "      <td>0.999988</td>\n",
       "      <td>0.999988</td>\n",
       "      <td>0.999988</td>\n",
       "    </tr>\n",
       "    <tr>\n",
       "      <th>591</th>\n",
       "      <td>0.999992</td>\n",
       "      <td>0.999992</td>\n",
       "      <td>0.999992</td>\n",
       "      <td>0.999992</td>\n",
       "    </tr>\n",
       "    <tr>\n",
       "      <th>601</th>\n",
       "      <td>0.999993</td>\n",
       "      <td>0.999993</td>\n",
       "      <td>0.999993</td>\n",
       "      <td>0.999993</td>\n",
       "    </tr>\n",
       "    <tr>\n",
       "      <th>611</th>\n",
       "      <td>0.999993</td>\n",
       "      <td>0.999993</td>\n",
       "      <td>0.999993</td>\n",
       "      <td>0.999993</td>\n",
       "    </tr>\n",
       "    <tr>\n",
       "      <th>621</th>\n",
       "      <td>0.999994</td>\n",
       "      <td>0.999994</td>\n",
       "      <td>0.999994</td>\n",
       "      <td>0.999994</td>\n",
       "    </tr>\n",
       "    <tr>\n",
       "      <th>631</th>\n",
       "      <td>0.999996</td>\n",
       "      <td>0.999996</td>\n",
       "      <td>0.999996</td>\n",
       "      <td>0.999996</td>\n",
       "    </tr>\n",
       "    <tr>\n",
       "      <th>641</th>\n",
       "      <td>0.999998</td>\n",
       "      <td>0.999998</td>\n",
       "      <td>0.999998</td>\n",
       "      <td>0.999998</td>\n",
       "    </tr>\n",
       "    <tr>\n",
       "      <th>651</th>\n",
       "      <td>0.999999</td>\n",
       "      <td>0.999999</td>\n",
       "      <td>0.999999</td>\n",
       "      <td>0.999999</td>\n",
       "    </tr>\n",
       "    <tr>\n",
       "      <th>661</th>\n",
       "      <td>1.000000</td>\n",
       "      <td>1.000000</td>\n",
       "      <td>1.000000</td>\n",
       "      <td>1.000000</td>\n",
       "    </tr>\n",
       "    <tr>\n",
       "      <th>671</th>\n",
       "      <td>1.000000</td>\n",
       "      <td>1.000000</td>\n",
       "      <td>1.000000</td>\n",
       "      <td>1.000000</td>\n",
       "    </tr>\n",
       "    <tr>\n",
       "      <th>681</th>\n",
       "      <td>1.000000</td>\n",
       "      <td>1.000000</td>\n",
       "      <td>1.000000</td>\n",
       "      <td>1.000000</td>\n",
       "    </tr>\n",
       "    <tr>\n",
       "      <th>691</th>\n",
       "      <td>1.000000</td>\n",
       "      <td>1.000000</td>\n",
       "      <td>1.000000</td>\n",
       "      <td>1.000000</td>\n",
       "    </tr>\n",
       "  </tbody>\n",
       "</table>\n",
       "<p>70 rows × 4 columns</p>\n",
       "</div>"
      ],
      "text/plain": [
       "     Train-f1-score  Train-precision  Train-recall  Train-accuracy\n",
       "1          0.986799         0.988153      0.990977        0.990977\n",
       "11         0.988841         0.990970      0.991854        0.991854\n",
       "21         0.990572         0.992434      0.992768        0.992768\n",
       "31         0.991881         0.993419      0.993542        0.993542\n",
       "41         0.992770         0.994083      0.994115        0.994115\n",
       "51         0.993585         0.994646      0.994656        0.994656\n",
       "61         0.994314         0.995168      0.995166        0.995166\n",
       "71         0.994955         0.995641      0.995631        0.995631\n",
       "81         0.995494         0.996048      0.996035        0.996035\n",
       "91         0.995963         0.996412      0.996400        0.996400\n",
       "101        0.996370         0.996734      0.996724        0.996724\n",
       "111        0.996695         0.996997      0.996989        0.996989\n",
       "121        0.997027         0.997273      0.997266        0.997266\n",
       "131        0.997313         0.997514      0.997508        0.997508\n",
       "141        0.997564         0.997730      0.997725        0.997725\n",
       "151        0.997782         0.997920      0.997915        0.997915\n",
       "161        0.997981         0.998095      0.998091        0.998091\n",
       "171        0.998145         0.998241      0.998238        0.998238\n",
       "181        0.998296         0.998377      0.998374        0.998374\n",
       "191        0.998462         0.998529      0.998526        0.998526\n",
       "201        0.998588         0.998644      0.998642        0.998642\n",
       "211        0.998714         0.998761      0.998759        0.998759\n",
       "221        0.998837         0.998875      0.998873        0.998873\n",
       "231        0.998936         0.998968      0.998967        0.998967\n",
       "241        0.999036         0.999062      0.999061        0.999061\n",
       "251        0.999125         0.999146      0.999146        0.999146\n",
       "261        0.999210         0.999227      0.999227        0.999227\n",
       "271        0.999278         0.999293      0.999292        0.999292\n",
       "281        0.999341         0.999353      0.999353        0.999353\n",
       "291        0.999402         0.999412      0.999411        0.999411\n",
       "..              ...              ...           ...             ...\n",
       "401        0.999802         0.999803      0.999803        0.999803\n",
       "411        0.999817         0.999818      0.999818        0.999818\n",
       "421        0.999832         0.999833      0.999833        0.999833\n",
       "431        0.999852         0.999852      0.999852        0.999852\n",
       "441        0.999866         0.999866      0.999866        0.999866\n",
       "451        0.999880         0.999880      0.999880        0.999880\n",
       "461        0.999894         0.999894      0.999894        0.999894\n",
       "471        0.999908         0.999909      0.999909        0.999909\n",
       "481        0.999918         0.999919      0.999919        0.999919\n",
       "491        0.999928         0.999928      0.999928        0.999928\n",
       "501        0.999937         0.999937      0.999937        0.999937\n",
       "511        0.999943         0.999944      0.999944        0.999944\n",
       "521        0.999955         0.999955      0.999955        0.999955\n",
       "531        0.999962         0.999962      0.999962        0.999962\n",
       "541        0.999971         0.999971      0.999971        0.999971\n",
       "551        0.999977         0.999977      0.999977        0.999977\n",
       "561        0.999982         0.999982      0.999982        0.999982\n",
       "571        0.999986         0.999986      0.999986        0.999986\n",
       "581        0.999988         0.999988      0.999988        0.999988\n",
       "591        0.999992         0.999992      0.999992        0.999992\n",
       "601        0.999993         0.999993      0.999993        0.999993\n",
       "611        0.999993         0.999993      0.999993        0.999993\n",
       "621        0.999994         0.999994      0.999994        0.999994\n",
       "631        0.999996         0.999996      0.999996        0.999996\n",
       "641        0.999998         0.999998      0.999998        0.999998\n",
       "651        0.999999         0.999999      0.999999        0.999999\n",
       "661        1.000000         1.000000      1.000000        1.000000\n",
       "671        1.000000         1.000000      1.000000        1.000000\n",
       "681        1.000000         1.000000      1.000000        1.000000\n",
       "691        1.000000         1.000000      1.000000        1.000000\n",
       "\n",
       "[70 rows x 4 columns]"
      ]
     },
     "metadata": {},
     "output_type": "display_data"
    },
    {
     "data": {
      "text/html": [
       "<div>\n",
       "<style scoped>\n",
       "    .dataframe tbody tr th:only-of-type {\n",
       "        vertical-align: middle;\n",
       "    }\n",
       "\n",
       "    .dataframe tbody tr th {\n",
       "        vertical-align: top;\n",
       "    }\n",
       "\n",
       "    .dataframe thead th {\n",
       "        text-align: right;\n",
       "    }\n",
       "</style>\n",
       "<table border=\"1\" class=\"dataframe\">\n",
       "  <thead>\n",
       "    <tr style=\"text-align: right;\">\n",
       "      <th></th>\n",
       "      <th>Test-f1-score</th>\n",
       "      <th>Test-precision</th>\n",
       "      <th>Test-recall</th>\n",
       "      <th>Test-accuracy</th>\n",
       "    </tr>\n",
       "  </thead>\n",
       "  <tbody>\n",
       "    <tr>\n",
       "      <th>1</th>\n",
       "      <td>0.971476</td>\n",
       "      <td>0.962377</td>\n",
       "      <td>0.980749</td>\n",
       "      <td>0.980749</td>\n",
       "    </tr>\n",
       "    <tr>\n",
       "      <th>11</th>\n",
       "      <td>0.971657</td>\n",
       "      <td>0.966880</td>\n",
       "      <td>0.978310</td>\n",
       "      <td>0.978310</td>\n",
       "    </tr>\n",
       "    <tr>\n",
       "      <th>21</th>\n",
       "      <td>0.971438</td>\n",
       "      <td>0.966964</td>\n",
       "      <td>0.977265</td>\n",
       "      <td>0.977265</td>\n",
       "    </tr>\n",
       "    <tr>\n",
       "      <th>31</th>\n",
       "      <td>0.972028</td>\n",
       "      <td>0.968424</td>\n",
       "      <td>0.976742</td>\n",
       "      <td>0.976742</td>\n",
       "    </tr>\n",
       "    <tr>\n",
       "      <th>41</th>\n",
       "      <td>0.971509</td>\n",
       "      <td>0.967975</td>\n",
       "      <td>0.975871</td>\n",
       "      <td>0.975871</td>\n",
       "    </tr>\n",
       "    <tr>\n",
       "      <th>51</th>\n",
       "      <td>0.971096</td>\n",
       "      <td>0.967673</td>\n",
       "      <td>0.975174</td>\n",
       "      <td>0.975174</td>\n",
       "    </tr>\n",
       "    <tr>\n",
       "      <th>61</th>\n",
       "      <td>0.970534</td>\n",
       "      <td>0.967321</td>\n",
       "      <td>0.974216</td>\n",
       "      <td>0.974216</td>\n",
       "    </tr>\n",
       "    <tr>\n",
       "      <th>71</th>\n",
       "      <td>0.970324</td>\n",
       "      <td>0.967336</td>\n",
       "      <td>0.973693</td>\n",
       "      <td>0.973693</td>\n",
       "    </tr>\n",
       "    <tr>\n",
       "      <th>81</th>\n",
       "      <td>0.969846</td>\n",
       "      <td>0.967363</td>\n",
       "      <td>0.972561</td>\n",
       "      <td>0.972561</td>\n",
       "    </tr>\n",
       "    <tr>\n",
       "      <th>91</th>\n",
       "      <td>0.969592</td>\n",
       "      <td>0.967251</td>\n",
       "      <td>0.972125</td>\n",
       "      <td>0.972125</td>\n",
       "    </tr>\n",
       "    <tr>\n",
       "      <th>101</th>\n",
       "      <td>0.969136</td>\n",
       "      <td>0.967066</td>\n",
       "      <td>0.971341</td>\n",
       "      <td>0.971341</td>\n",
       "    </tr>\n",
       "    <tr>\n",
       "      <th>111</th>\n",
       "      <td>0.968633</td>\n",
       "      <td>0.966881</td>\n",
       "      <td>0.970470</td>\n",
       "      <td>0.970470</td>\n",
       "    </tr>\n",
       "    <tr>\n",
       "      <th>121</th>\n",
       "      <td>0.968315</td>\n",
       "      <td>0.966909</td>\n",
       "      <td>0.969774</td>\n",
       "      <td>0.969774</td>\n",
       "    </tr>\n",
       "    <tr>\n",
       "      <th>131</th>\n",
       "      <td>0.968114</td>\n",
       "      <td>0.966845</td>\n",
       "      <td>0.969425</td>\n",
       "      <td>0.969425</td>\n",
       "    </tr>\n",
       "    <tr>\n",
       "      <th>141</th>\n",
       "      <td>0.968095</td>\n",
       "      <td>0.966972</td>\n",
       "      <td>0.969251</td>\n",
       "      <td>0.969251</td>\n",
       "    </tr>\n",
       "    <tr>\n",
       "      <th>151</th>\n",
       "      <td>0.967744</td>\n",
       "      <td>0.966866</td>\n",
       "      <td>0.968641</td>\n",
       "      <td>0.968641</td>\n",
       "    </tr>\n",
       "    <tr>\n",
       "      <th>161</th>\n",
       "      <td>0.967694</td>\n",
       "      <td>0.966852</td>\n",
       "      <td>0.968554</td>\n",
       "      <td>0.968554</td>\n",
       "    </tr>\n",
       "    <tr>\n",
       "      <th>171</th>\n",
       "      <td>0.967523</td>\n",
       "      <td>0.966935</td>\n",
       "      <td>0.968118</td>\n",
       "      <td>0.968118</td>\n",
       "    </tr>\n",
       "    <tr>\n",
       "      <th>181</th>\n",
       "      <td>0.967372</td>\n",
       "      <td>0.966893</td>\n",
       "      <td>0.967857</td>\n",
       "      <td>0.967857</td>\n",
       "    </tr>\n",
       "    <tr>\n",
       "      <th>191</th>\n",
       "      <td>0.967073</td>\n",
       "      <td>0.966813</td>\n",
       "      <td>0.967334</td>\n",
       "      <td>0.967334</td>\n",
       "    </tr>\n",
       "    <tr>\n",
       "      <th>201</th>\n",
       "      <td>0.966924</td>\n",
       "      <td>0.966775</td>\n",
       "      <td>0.967073</td>\n",
       "      <td>0.967073</td>\n",
       "    </tr>\n",
       "    <tr>\n",
       "      <th>211</th>\n",
       "      <td>0.966526</td>\n",
       "      <td>0.966676</td>\n",
       "      <td>0.966376</td>\n",
       "      <td>0.966376</td>\n",
       "    </tr>\n",
       "    <tr>\n",
       "      <th>221</th>\n",
       "      <td>0.966477</td>\n",
       "      <td>0.966665</td>\n",
       "      <td>0.966289</td>\n",
       "      <td>0.966289</td>\n",
       "    </tr>\n",
       "    <tr>\n",
       "      <th>231</th>\n",
       "      <td>0.966477</td>\n",
       "      <td>0.966665</td>\n",
       "      <td>0.966289</td>\n",
       "      <td>0.966289</td>\n",
       "    </tr>\n",
       "    <tr>\n",
       "      <th>241</th>\n",
       "      <td>0.966377</td>\n",
       "      <td>0.966641</td>\n",
       "      <td>0.966115</td>\n",
       "      <td>0.966115</td>\n",
       "    </tr>\n",
       "    <tr>\n",
       "      <th>251</th>\n",
       "      <td>0.966229</td>\n",
       "      <td>0.966607</td>\n",
       "      <td>0.965854</td>\n",
       "      <td>0.965854</td>\n",
       "    </tr>\n",
       "    <tr>\n",
       "      <th>261</th>\n",
       "      <td>0.966130</td>\n",
       "      <td>0.966584</td>\n",
       "      <td>0.965679</td>\n",
       "      <td>0.965679</td>\n",
       "    </tr>\n",
       "    <tr>\n",
       "      <th>271</th>\n",
       "      <td>0.965982</td>\n",
       "      <td>0.966551</td>\n",
       "      <td>0.965418</td>\n",
       "      <td>0.965418</td>\n",
       "    </tr>\n",
       "    <tr>\n",
       "      <th>281</th>\n",
       "      <td>0.965883</td>\n",
       "      <td>0.966529</td>\n",
       "      <td>0.965244</td>\n",
       "      <td>0.965244</td>\n",
       "    </tr>\n",
       "    <tr>\n",
       "      <th>291</th>\n",
       "      <td>0.965784</td>\n",
       "      <td>0.966508</td>\n",
       "      <td>0.965070</td>\n",
       "      <td>0.965070</td>\n",
       "    </tr>\n",
       "    <tr>\n",
       "      <th>...</th>\n",
       "      <td>...</td>\n",
       "      <td>...</td>\n",
       "      <td>...</td>\n",
       "      <td>...</td>\n",
       "    </tr>\n",
       "    <tr>\n",
       "      <th>401</th>\n",
       "      <td>0.965439</td>\n",
       "      <td>0.966436</td>\n",
       "      <td>0.964460</td>\n",
       "      <td>0.964460</td>\n",
       "    </tr>\n",
       "    <tr>\n",
       "      <th>411</th>\n",
       "      <td>0.965439</td>\n",
       "      <td>0.966436</td>\n",
       "      <td>0.964460</td>\n",
       "      <td>0.964460</td>\n",
       "    </tr>\n",
       "    <tr>\n",
       "      <th>421</th>\n",
       "      <td>0.965439</td>\n",
       "      <td>0.966436</td>\n",
       "      <td>0.964460</td>\n",
       "      <td>0.964460</td>\n",
       "    </tr>\n",
       "    <tr>\n",
       "      <th>431</th>\n",
       "      <td>0.965439</td>\n",
       "      <td>0.966436</td>\n",
       "      <td>0.964460</td>\n",
       "      <td>0.964460</td>\n",
       "    </tr>\n",
       "    <tr>\n",
       "      <th>441</th>\n",
       "      <td>0.965439</td>\n",
       "      <td>0.966436</td>\n",
       "      <td>0.964460</td>\n",
       "      <td>0.964460</td>\n",
       "    </tr>\n",
       "    <tr>\n",
       "      <th>451</th>\n",
       "      <td>0.965439</td>\n",
       "      <td>0.966436</td>\n",
       "      <td>0.964460</td>\n",
       "      <td>0.964460</td>\n",
       "    </tr>\n",
       "    <tr>\n",
       "      <th>461</th>\n",
       "      <td>0.965439</td>\n",
       "      <td>0.966436</td>\n",
       "      <td>0.964460</td>\n",
       "      <td>0.964460</td>\n",
       "    </tr>\n",
       "    <tr>\n",
       "      <th>471</th>\n",
       "      <td>0.965439</td>\n",
       "      <td>0.966436</td>\n",
       "      <td>0.964460</td>\n",
       "      <td>0.964460</td>\n",
       "    </tr>\n",
       "    <tr>\n",
       "      <th>481</th>\n",
       "      <td>0.965439</td>\n",
       "      <td>0.966436</td>\n",
       "      <td>0.964460</td>\n",
       "      <td>0.964460</td>\n",
       "    </tr>\n",
       "    <tr>\n",
       "      <th>491</th>\n",
       "      <td>0.965439</td>\n",
       "      <td>0.966436</td>\n",
       "      <td>0.964460</td>\n",
       "      <td>0.964460</td>\n",
       "    </tr>\n",
       "    <tr>\n",
       "      <th>501</th>\n",
       "      <td>0.965439</td>\n",
       "      <td>0.966436</td>\n",
       "      <td>0.964460</td>\n",
       "      <td>0.964460</td>\n",
       "    </tr>\n",
       "    <tr>\n",
       "      <th>511</th>\n",
       "      <td>0.965439</td>\n",
       "      <td>0.966436</td>\n",
       "      <td>0.964460</td>\n",
       "      <td>0.964460</td>\n",
       "    </tr>\n",
       "    <tr>\n",
       "      <th>521</th>\n",
       "      <td>0.965439</td>\n",
       "      <td>0.966436</td>\n",
       "      <td>0.964460</td>\n",
       "      <td>0.964460</td>\n",
       "    </tr>\n",
       "    <tr>\n",
       "      <th>531</th>\n",
       "      <td>0.965439</td>\n",
       "      <td>0.966436</td>\n",
       "      <td>0.964460</td>\n",
       "      <td>0.964460</td>\n",
       "    </tr>\n",
       "    <tr>\n",
       "      <th>541</th>\n",
       "      <td>0.965439</td>\n",
       "      <td>0.966436</td>\n",
       "      <td>0.964460</td>\n",
       "      <td>0.964460</td>\n",
       "    </tr>\n",
       "    <tr>\n",
       "      <th>551</th>\n",
       "      <td>0.965439</td>\n",
       "      <td>0.966436</td>\n",
       "      <td>0.964460</td>\n",
       "      <td>0.964460</td>\n",
       "    </tr>\n",
       "    <tr>\n",
       "      <th>561</th>\n",
       "      <td>0.965439</td>\n",
       "      <td>0.966436</td>\n",
       "      <td>0.964460</td>\n",
       "      <td>0.964460</td>\n",
       "    </tr>\n",
       "    <tr>\n",
       "      <th>571</th>\n",
       "      <td>0.965439</td>\n",
       "      <td>0.966436</td>\n",
       "      <td>0.964460</td>\n",
       "      <td>0.964460</td>\n",
       "    </tr>\n",
       "    <tr>\n",
       "      <th>581</th>\n",
       "      <td>0.965439</td>\n",
       "      <td>0.966436</td>\n",
       "      <td>0.964460</td>\n",
       "      <td>0.964460</td>\n",
       "    </tr>\n",
       "    <tr>\n",
       "      <th>591</th>\n",
       "      <td>0.965439</td>\n",
       "      <td>0.966436</td>\n",
       "      <td>0.964460</td>\n",
       "      <td>0.964460</td>\n",
       "    </tr>\n",
       "    <tr>\n",
       "      <th>601</th>\n",
       "      <td>0.965439</td>\n",
       "      <td>0.966436</td>\n",
       "      <td>0.964460</td>\n",
       "      <td>0.964460</td>\n",
       "    </tr>\n",
       "    <tr>\n",
       "      <th>611</th>\n",
       "      <td>0.965439</td>\n",
       "      <td>0.966436</td>\n",
       "      <td>0.964460</td>\n",
       "      <td>0.964460</td>\n",
       "    </tr>\n",
       "    <tr>\n",
       "      <th>621</th>\n",
       "      <td>0.965439</td>\n",
       "      <td>0.966436</td>\n",
       "      <td>0.964460</td>\n",
       "      <td>0.964460</td>\n",
       "    </tr>\n",
       "    <tr>\n",
       "      <th>631</th>\n",
       "      <td>0.965439</td>\n",
       "      <td>0.966436</td>\n",
       "      <td>0.964460</td>\n",
       "      <td>0.964460</td>\n",
       "    </tr>\n",
       "    <tr>\n",
       "      <th>641</th>\n",
       "      <td>0.965439</td>\n",
       "      <td>0.966436</td>\n",
       "      <td>0.964460</td>\n",
       "      <td>0.964460</td>\n",
       "    </tr>\n",
       "    <tr>\n",
       "      <th>651</th>\n",
       "      <td>0.965439</td>\n",
       "      <td>0.966436</td>\n",
       "      <td>0.964460</td>\n",
       "      <td>0.964460</td>\n",
       "    </tr>\n",
       "    <tr>\n",
       "      <th>661</th>\n",
       "      <td>0.965439</td>\n",
       "      <td>0.966436</td>\n",
       "      <td>0.964460</td>\n",
       "      <td>0.964460</td>\n",
       "    </tr>\n",
       "    <tr>\n",
       "      <th>671</th>\n",
       "      <td>0.965439</td>\n",
       "      <td>0.966436</td>\n",
       "      <td>0.964460</td>\n",
       "      <td>0.964460</td>\n",
       "    </tr>\n",
       "    <tr>\n",
       "      <th>681</th>\n",
       "      <td>0.965439</td>\n",
       "      <td>0.966436</td>\n",
       "      <td>0.964460</td>\n",
       "      <td>0.964460</td>\n",
       "    </tr>\n",
       "    <tr>\n",
       "      <th>691</th>\n",
       "      <td>0.965439</td>\n",
       "      <td>0.966436</td>\n",
       "      <td>0.964460</td>\n",
       "      <td>0.964460</td>\n",
       "    </tr>\n",
       "  </tbody>\n",
       "</table>\n",
       "<p>70 rows × 4 columns</p>\n",
       "</div>"
      ],
      "text/plain": [
       "     Test-f1-score  Test-precision  Test-recall  Test-accuracy\n",
       "1         0.971476        0.962377     0.980749       0.980749\n",
       "11        0.971657        0.966880     0.978310       0.978310\n",
       "21        0.971438        0.966964     0.977265       0.977265\n",
       "31        0.972028        0.968424     0.976742       0.976742\n",
       "41        0.971509        0.967975     0.975871       0.975871\n",
       "51        0.971096        0.967673     0.975174       0.975174\n",
       "61        0.970534        0.967321     0.974216       0.974216\n",
       "71        0.970324        0.967336     0.973693       0.973693\n",
       "81        0.969846        0.967363     0.972561       0.972561\n",
       "91        0.969592        0.967251     0.972125       0.972125\n",
       "101       0.969136        0.967066     0.971341       0.971341\n",
       "111       0.968633        0.966881     0.970470       0.970470\n",
       "121       0.968315        0.966909     0.969774       0.969774\n",
       "131       0.968114        0.966845     0.969425       0.969425\n",
       "141       0.968095        0.966972     0.969251       0.969251\n",
       "151       0.967744        0.966866     0.968641       0.968641\n",
       "161       0.967694        0.966852     0.968554       0.968554\n",
       "171       0.967523        0.966935     0.968118       0.968118\n",
       "181       0.967372        0.966893     0.967857       0.967857\n",
       "191       0.967073        0.966813     0.967334       0.967334\n",
       "201       0.966924        0.966775     0.967073       0.967073\n",
       "211       0.966526        0.966676     0.966376       0.966376\n",
       "221       0.966477        0.966665     0.966289       0.966289\n",
       "231       0.966477        0.966665     0.966289       0.966289\n",
       "241       0.966377        0.966641     0.966115       0.966115\n",
       "251       0.966229        0.966607     0.965854       0.965854\n",
       "261       0.966130        0.966584     0.965679       0.965679\n",
       "271       0.965982        0.966551     0.965418       0.965418\n",
       "281       0.965883        0.966529     0.965244       0.965244\n",
       "291       0.965784        0.966508     0.965070       0.965070\n",
       "..             ...             ...          ...            ...\n",
       "401       0.965439        0.966436     0.964460       0.964460\n",
       "411       0.965439        0.966436     0.964460       0.964460\n",
       "421       0.965439        0.966436     0.964460       0.964460\n",
       "431       0.965439        0.966436     0.964460       0.964460\n",
       "441       0.965439        0.966436     0.964460       0.964460\n",
       "451       0.965439        0.966436     0.964460       0.964460\n",
       "461       0.965439        0.966436     0.964460       0.964460\n",
       "471       0.965439        0.966436     0.964460       0.964460\n",
       "481       0.965439        0.966436     0.964460       0.964460\n",
       "491       0.965439        0.966436     0.964460       0.964460\n",
       "501       0.965439        0.966436     0.964460       0.964460\n",
       "511       0.965439        0.966436     0.964460       0.964460\n",
       "521       0.965439        0.966436     0.964460       0.964460\n",
       "531       0.965439        0.966436     0.964460       0.964460\n",
       "541       0.965439        0.966436     0.964460       0.964460\n",
       "551       0.965439        0.966436     0.964460       0.964460\n",
       "561       0.965439        0.966436     0.964460       0.964460\n",
       "571       0.965439        0.966436     0.964460       0.964460\n",
       "581       0.965439        0.966436     0.964460       0.964460\n",
       "591       0.965439        0.966436     0.964460       0.964460\n",
       "601       0.965439        0.966436     0.964460       0.964460\n",
       "611       0.965439        0.966436     0.964460       0.964460\n",
       "621       0.965439        0.966436     0.964460       0.964460\n",
       "631       0.965439        0.966436     0.964460       0.964460\n",
       "641       0.965439        0.966436     0.964460       0.964460\n",
       "651       0.965439        0.966436     0.964460       0.964460\n",
       "661       0.965439        0.966436     0.964460       0.964460\n",
       "671       0.965439        0.966436     0.964460       0.964460\n",
       "681       0.965439        0.966436     0.964460       0.964460\n",
       "691       0.965439        0.966436     0.964460       0.964460\n",
       "\n",
       "[70 rows x 4 columns]"
      ]
     },
     "metadata": {},
     "output_type": "display_data"
    }
   ],
   "source": [
    "!pip install scikit-learn==0.20\n",
    "num_latent_feats = np.arange(1,700,10)\n",
    "row_idxs = user_item_train.index.isin(test_idx)\n",
    "col_idxs = user_item_train.columns.isin(test_arts)\n",
    "u_test = u_train[row_idxs, :]\n",
    "vt_test = vt_train[:, col_idxs]\n",
    "\n",
    "df_preds_train = pd.DataFrame(columns=['f1-score', 'precision', 'recall', 'support', 'accuracy'])\n",
    "\n",
    "df_preds_test = pd.DataFrame(columns=['f1-score', 'precision', 'recall', 'support', 'accuracy'])\n",
    "\n",
    "for k in num_latent_feats:\n",
    "    s_train_lat, u_train_lat, vt_train_lat = np.diag(s_train[:k]), u_train[:, :k], vt_train[:k, :]\n",
    "    u_test_lat, vt_test_lat = u_test[:, :k], vt_test[:k, :]\n",
    "    \n",
    "    # Dot product:\n",
    "    user_item_train_preds = np.around(np.dot(np.dot(u_train_lat, s_train_lat), vt_train_lat))\n",
    "    user_item_test_preds = np.around(np.dot(np.dot(u_test_lat, s_train_lat), vt_test_lat))\n",
    "   \n",
    "    # Calculate the error of each prediction with the true value\n",
    "    diffs_train = np.subtract(user_item_train, user_item_train_preds)\n",
    "    diffs_test = np.subtract(user_item_test, user_item_test_preds)\n",
    "    \n",
    "    # Total Error\n",
    "    err_train = np.sum(np.sum(np.abs(diffs_train)))\n",
    "    err_test = np.sum(np.sum(np.abs(diffs_test)))\n",
    "    \n",
    "\n",
    "    # Flatten user_item_train matrix (=label) to 1d array for classification report \n",
    "    labels_train_flat = user_item_train.values.flatten()\n",
    "    # Flatten user_item_test matrix (=label) to 1d array for classification report \n",
    "    labels_test_flat = user_item_test.values.flatten()\n",
    "    # Flatten user_item_train_preds  matrix to 1d array for classification report\n",
    "    train_preds_flat = user_item_train_preds.flatten()\n",
    "    # Flatten user_item_test_preds matrix to 1d array for classification report \n",
    "    test_preds_flat = user_item_test_preds.flatten()\n",
    "    \n",
    "    \n",
    "    # Train\n",
    "    accuracy_train = 1 - np.array(err_train)/(user_item_train.shape[0]*user_item_train.shape[1])\n",
    "    class_rep_train = pd.DataFrame(classification_report(labels_train_flat, train_preds_flat, output_dict=True)).T.iloc[-1,:]\n",
    "    class_rep_train = pd.DataFrame(class_rep_train).T\n",
    "    class_rep_train.index = [k]\n",
    "    class_rep_train['accuracy'] = accuracy_train                        \n",
    "    df_preds_train = pd.concat([df_preds_train, class_rep_train])\n",
    "    \n",
    "\n",
    "    # Test\n",
    "    accuracy_test = 1 - np.array(err_test)/(user_item_test.shape[0]*user_item_test.shape[1])\n",
    "    class_rep_test = pd.DataFrame(classification_report(labels_test_flat, test_preds_flat, output_dict=True)).T.iloc[-1,:]\n",
    "    class_rep_test = pd.DataFrame(class_rep_test).T\n",
    "    class_rep_test.index = [k]\n",
    "    class_rep_test['accuracy'] = accuracy_test                        \n",
    "    df_preds_test = pd.concat([df_preds_test, class_rep_test])\n",
    "    \n",
    "   \n",
    "    \n",
    "df_preds_train = df_preds_train.drop('support', axis=1)\n",
    "df_preds_train.columns = ['Train-f1-score', 'Train-precision', 'Train-recall', 'Train-accuracy']\n",
    "df_preds_test = df_preds_test.drop('support', axis=1)\n",
    "df_preds_test.columns = ['Test-f1-score', 'Test-precision', 'Test-recall', 'Test-accuracy']\n",
    "\n",
    "display(df_preds_train)\n",
    "display(df_preds_test)\n",
    "    "
   ]
  },
  {
   "cell_type": "code",
   "execution_count": 161,
   "metadata": {},
   "outputs": [
    {
     "data": {
      "text/plain": [
       "Text(0,0.5,'Metric value')"
      ]
     },
     "execution_count": 161,
     "metadata": {},
     "output_type": "execute_result"
    },
    {
     "data": {
      "image/png": "[encoded data removed]",
      "text/plain": [
       "<matplotlib.figure.Figure at 0x7f5a41fa2c50>"
      ]
     },
     "metadata": {
      "needs_background": "light"
     },
     "output_type": "display_data"
    }
   ],
   "source": [
    "# Plot Metrics\n",
    "ax = df_preds_train.plot()\n",
    "df_preds_test.plot(ax=ax)\n",
    "ax.set_xlabel(\"Number of Latent Factors\")\n",
    "ax.set_ylabel(\"Metric value\")"
   ]
  },
  {
   "cell_type": "markdown",
   "metadata": {
    "collapsed": true
   },
   "source": [
    "`6.` Use the cell below to comment on the results you found in the previous question. Given the circumstances of your results, discuss what you might do to determine if the recommendations you make with any of the above recommendation systems are an improvement to how users currently find articles? "
   ]
  },
  {
   "cell_type": "markdown",
   "metadata": {},
   "source": [
    "**Your response here.**\n",
    "\n",
    "- With an increasing number of latent features one observes an increasing Training accuracy but a decreasing Test accuracy. \n",
    "- From only checking accuracy one could argue that there seems to be overfitting by using the SVD technique.\n",
    "- However, by checking other metrics like precision, recall and f1-score (= harmonic mean of precision and recall) one observes a stagnation effect at around 0.965 (for all three metrics). This indicates that an increase of k does not give any new information.\n",
    "- With regard to precision there is even a slight enhancement for an increasing the k value up to 20. This is also the region where f1-score does not seems to deacrease. Precision means here: the ratio of the correct positive predictions (number of correct predictions \"user iteracted with article\", or correct predicted \"1's\" in the user-item-matrix) to the total number of positive predictions (number of correct and incorrect predictions that a \"user interacted with an article\").\n",
    "- Hence, I would use k values of up to 20 in maximum (interestingly, this is also in the range of users we could make predictions for)   \n",
    "- For sure it does not make sense to increase the number of latent features larger than that as other test metrics are getting worse. The number of users in the test set (20) for which we could make predictions for is too low for a high latent factor space. This would only increase the noise in making predictions. In order to decrease this noise more data (more users) would be needed for the test set. \n",
    "- Due to this 'low-amount-of-test-user' problem I would not use SVD alone at the moment.\n",
    "- I would use techniques as proposed under III.6 in addition."
   ]
  },
  {
   "cell_type": "markdown",
   "metadata": {
    "collapsed": true
   },
   "source": [
    "<a id='conclusions'></a>\n",
    "### Extras\n",
    "Using your workbook, you could now save your recommendations for each user, develop a class to make new predictions and update your results, and make a flask app to deploy your results.  These tasks are beyond what is required for this project.  However, from what you learned in the lessons, you certainly capable of taking these tasks on to improve upon your work here!\n",
    "\n",
    "\n",
    "## Conclusion\n",
    "\n",
    "> Congratulations!  You have reached the end of the Recommendations with IBM project! \n",
    "\n",
    "> **Tip**: Once you are satisfied with your work here, check over your report to make sure that it is satisfies all the areas of the [rubric](https://review.udacity.com/#!/rubrics/2322/view). You should also probably remove all of the \"Tips\" like this one so that the presentation is as polished as possible.\n",
    "\n",
    "\n",
    "## Directions to Submit\n",
    "\n",
    "> Before you submit your project, you need to create a .html or .pdf version of this notebook in the workspace here. To do that, run the code cell below. If it worked correctly, you should get a return code of 0, and you should see the generated .html file in the workspace directory (click on the orange Jupyter icon in the upper left).\n",
    "\n",
    "> Alternatively, you can download this report as .html via the **File** > **Download as** submenu, and then manually upload it into the workspace directory by clicking on the orange Jupyter icon in the upper left, then using the Upload button.\n",
    "\n",
    "> Once you've done this, you can submit your project by clicking on the \"Submit Project\" button in the lower right here. This will create and submit a zip file with this .ipynb doc and the .html or .pdf version you created. Congratulations! "
   ]
  },
  {
   "cell_type": "code",
   "execution_count": null,
   "metadata": {},
   "outputs": [],
   "source": []
  },
  {
   "cell_type": "code",
   "execution_count": null,
   "metadata": {},
   "outputs": [],
   "source": [
    "from subprocess import call\n",
    "call(['python', '-m', 'nbconvert', 'Recommendations_with_IBM.ipynb'])"
   ]
  },
  {
   "cell_type": "code",
   "execution_count": null,
   "metadata": {},
   "outputs": [],
   "source": []
  }
 ],
 "metadata": {
  "kernelspec": {
   "display_name": "Python 3",
   "language": "python",
   "name": "python3"
  },
  "language_info": {
   "codemirror_mode": {
    "name": "ipython",
    "version": 3
   },
   "file_extension": ".py",
   "mimetype": "text/x-python",
   "name": "python",
   "nbconvert_exporter": "python",
   "pygments_lexer": "ipython3",
   "version": "3.6.3"
  }
 },
 "nbformat": 4,
 "nbformat_minor": 2
}
